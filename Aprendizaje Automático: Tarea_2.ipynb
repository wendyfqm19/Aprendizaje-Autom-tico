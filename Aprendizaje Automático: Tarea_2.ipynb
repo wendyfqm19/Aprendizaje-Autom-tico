{
  "cells": [
    {
      "cell_type": "markdown",
      "metadata": {
        "id": "view-in-github",
        "colab_type": "text"
      },
      "source": [
        "<a href=\"https://colab.research.google.com/github/wendyfqm19/Aprendizaje-Autom-tico/blob/main/Aprendizaje%20Autom%C3%A1tico%3A%20Tarea_2.ipynb\" target=\"_parent\"><img src=\"https://colab.research.google.com/assets/colab-badge.svg\" alt=\"Open In Colab\"/></a>"
      ]
    },
    {
      "cell_type": "markdown",
      "source": [
        "---"
      ],
      "metadata": {
        "id": "IHV8BXZO_Kiq"
      }
    },
    {
      "cell_type": "markdown",
      "metadata": {
        "id": "SiOQplB2gQe6"
      },
      "source": [
        "### **Principios de aprendizaje automático**\n",
        "###Tarea # 2\n",
        "### **Integrantes** \n",
        "**\n",
        "Wendy Quesada y Simón Quesada \n",
        "\n"
      ]
    },
    {
      "cell_type": "markdown",
      "source": [
        "---"
      ],
      "metadata": {
        "id": "TtzHesR-_Hwa"
      }
    },
    {
      "cell_type": "markdown",
      "source": [
        "El fuego es un desastre natural que puede ser causado por muchas razones diferentes. A continuación vemos los datos obtenidos de un sistema de extinción de incendios mediante ondas sonoras, basado en el paper: [Determining the Extinguishing Status of Fuel Flames With Sound Wave](https://ieeexplore.ieee.org/stamp/stamp.jsp?tp=&arnumber=9452168) . Con los datos obtenidos de esta investigación se obtuvieron un total de 17.442 pruebas de las siguientes features:\n",
        "$$ $$\n",
        "SIZE: \n",
        "$$ $$\n",
        "FUEL: Tipo de combustible (Gasoline, Kerosene, Thinner)\n",
        "$$ $$\n",
        "DISTANCE: Distancia a la llama del extintor sonoro.\t\n",
        "$$ $$\n",
        "DESIBEL: Presión sonora utilizada para apagar el fuego.\n",
        "$$ $$\n",
        "AIRFLOW\t: Flujo de aire\n",
        "$$ $$\n",
        "FREQUENCY\t: Frecuencia del sonido.\n",
        "$$ $$\n",
        "STATUS: Estado del fuego (1: se apagó, 0 : sigue encendido)"
      ],
      "metadata": {
        "id": "tDRRO_-f8gF5"
      }
    },
    {
      "cell_type": "markdown",
      "source": [
        ""
      ],
      "metadata": {
        "id": "bYka5rmdElli"
      }
    },
    {
      "cell_type": "markdown",
      "source": [
        "---"
      ],
      "metadata": {
        "id": "95g7qUUn_nHT"
      }
    },
    {
      "cell_type": "markdown",
      "source": [
        "Importamos las librerías necesarias para aplicar los métodos de clasificación "
      ],
      "metadata": {
        "id": "K8mnefocEqpf"
      }
    },
    {
      "cell_type": "code",
      "execution_count": 44,
      "metadata": {
        "id": "JjaweSCvsaGv"
      },
      "outputs": [],
      "source": [
        "import numpy as np\n",
        "import pandas as pd\n",
        "import matplotlib.pyplot as plt\n",
        "import seaborn as sns\n"
      ]
    },
    {
      "cell_type": "markdown",
      "source": [
        "Importamos nuestra base de datos directamente desde GITHUB"
      ],
      "metadata": {
        "id": "-9Bm_XFFEuEf"
      }
    },
    {
      "cell_type": "code",
      "source": [
        "data = pd.read_csv('https://raw.githubusercontent.com/wendyfqm19/Aprendizaje-Autom-tico/main/Acoustic_Extinguisher_Fire_Dataset.csv', sep=';')"
      ],
      "metadata": {
        "id": "wiXNSfS-1TtD"
      },
      "execution_count": 45,
      "outputs": []
    },
    {
      "cell_type": "markdown",
      "source": [
        "La base de datos tiene 17442 instancias y 7 columnas"
      ],
      "metadata": {
        "id": "LUD8ja8CEysi"
      }
    },
    {
      "cell_type": "code",
      "source": [
        "data.shape"
      ],
      "metadata": {
        "colab": {
          "base_uri": "https://localhost:8080/"
        },
        "id": "6YMarWDHR82L",
        "outputId": "5e99c493-9df4-4fba-92e6-9a79d6b215bb"
      },
      "execution_count": 46,
      "outputs": [
        {
          "output_type": "execute_result",
          "data": {
            "text/plain": [
              "(17442, 7)"
            ]
          },
          "metadata": {},
          "execution_count": 46
        }
      ]
    },
    {
      "cell_type": "markdown",
      "source": [
        "La base de datos no presenta valores nulos"
      ],
      "metadata": {
        "id": "nEfubl42E1PQ"
      }
    },
    {
      "cell_type": "code",
      "source": [
        "#Revisamos nuestra base de datos para determinar si está limpia\n",
        "#La base de datos no tiene datos tipo NAN/Null.\n",
        "data.isnull().sum()"
      ],
      "metadata": {
        "colab": {
          "base_uri": "https://localhost:8080/"
        },
        "id": "V6RH7o4cSLHz",
        "outputId": "f56eb69c-eb1b-4d3d-bb51-9e70b79e4ee9"
      },
      "execution_count": 47,
      "outputs": [
        {
          "output_type": "execute_result",
          "data": {
            "text/plain": [
              "SIZE         0\n",
              "FUEL         0\n",
              "DISTANCE     0\n",
              "DESIBEL      0\n",
              "AIRFLOW      0\n",
              "FREQUENCY    0\n",
              "STATUS       0\n",
              "dtype: int64"
            ]
          },
          "metadata": {},
          "execution_count": 47
        }
      ]
    },
    {
      "cell_type": "markdown",
      "source": [
        "Analizamos los datos y extraimos algunos estadísticos para darnos cuenta del promedio, media, desviación estándar, y percentiles para darnos una idea de la distribución de los datos y ver si no hay un dato fuera de lo normal. "
      ],
      "metadata": {
        "id": "6pDzuAOQFFFR"
      }
    },
    {
      "cell_type": "code",
      "execution_count": 48,
      "metadata": {
        "colab": {
          "base_uri": "https://localhost:8080/",
          "height": 300
        },
        "id": "JBOT_iGJulAv",
        "outputId": "9a0d2491-60dc-4c96-851e-e714018c53f8"
      },
      "outputs": [
        {
          "output_type": "execute_result",
          "data": {
            "text/plain": [
              "               SIZE      DISTANCE       DESIBEL     FREQUENCY        STATUS\n",
              "count  17442.000000  17442.000000  17442.000000  17442.000000  17442.000000\n",
              "mean       3.411765    100.000000     96.379142     31.611111      0.497821\n",
              "std        1.750977     54.773826      8.164096     20.939149      0.500010\n",
              "min        1.000000     10.000000     72.000000      1.000000      0.000000\n",
              "25%        2.000000     50.000000     90.000000     14.000000      0.000000\n",
              "50%        3.000000    100.000000     95.000000     27.500000      0.000000\n",
              "75%        5.000000    150.000000    104.000000     47.000000      1.000000\n",
              "max        7.000000    190.000000    113.000000     75.000000      1.000000"
            ],
            "text/html": [
              "\n",
              "  <div id=\"df-6592500b-f9f3-4be3-975c-f3f2b0663844\">\n",
              "    <div class=\"colab-df-container\">\n",
              "      <div>\n",
              "<style scoped>\n",
              "    .dataframe tbody tr th:only-of-type {\n",
              "        vertical-align: middle;\n",
              "    }\n",
              "\n",
              "    .dataframe tbody tr th {\n",
              "        vertical-align: top;\n",
              "    }\n",
              "\n",
              "    .dataframe thead th {\n",
              "        text-align: right;\n",
              "    }\n",
              "</style>\n",
              "<table border=\"1\" class=\"dataframe\">\n",
              "  <thead>\n",
              "    <tr style=\"text-align: right;\">\n",
              "      <th></th>\n",
              "      <th>SIZE</th>\n",
              "      <th>DISTANCE</th>\n",
              "      <th>DESIBEL</th>\n",
              "      <th>FREQUENCY</th>\n",
              "      <th>STATUS</th>\n",
              "    </tr>\n",
              "  </thead>\n",
              "  <tbody>\n",
              "    <tr>\n",
              "      <th>count</th>\n",
              "      <td>17442.000000</td>\n",
              "      <td>17442.000000</td>\n",
              "      <td>17442.000000</td>\n",
              "      <td>17442.000000</td>\n",
              "      <td>17442.000000</td>\n",
              "    </tr>\n",
              "    <tr>\n",
              "      <th>mean</th>\n",
              "      <td>3.411765</td>\n",
              "      <td>100.000000</td>\n",
              "      <td>96.379142</td>\n",
              "      <td>31.611111</td>\n",
              "      <td>0.497821</td>\n",
              "    </tr>\n",
              "    <tr>\n",
              "      <th>std</th>\n",
              "      <td>1.750977</td>\n",
              "      <td>54.773826</td>\n",
              "      <td>8.164096</td>\n",
              "      <td>20.939149</td>\n",
              "      <td>0.500010</td>\n",
              "    </tr>\n",
              "    <tr>\n",
              "      <th>min</th>\n",
              "      <td>1.000000</td>\n",
              "      <td>10.000000</td>\n",
              "      <td>72.000000</td>\n",
              "      <td>1.000000</td>\n",
              "      <td>0.000000</td>\n",
              "    </tr>\n",
              "    <tr>\n",
              "      <th>25%</th>\n",
              "      <td>2.000000</td>\n",
              "      <td>50.000000</td>\n",
              "      <td>90.000000</td>\n",
              "      <td>14.000000</td>\n",
              "      <td>0.000000</td>\n",
              "    </tr>\n",
              "    <tr>\n",
              "      <th>50%</th>\n",
              "      <td>3.000000</td>\n",
              "      <td>100.000000</td>\n",
              "      <td>95.000000</td>\n",
              "      <td>27.500000</td>\n",
              "      <td>0.000000</td>\n",
              "    </tr>\n",
              "    <tr>\n",
              "      <th>75%</th>\n",
              "      <td>5.000000</td>\n",
              "      <td>150.000000</td>\n",
              "      <td>104.000000</td>\n",
              "      <td>47.000000</td>\n",
              "      <td>1.000000</td>\n",
              "    </tr>\n",
              "    <tr>\n",
              "      <th>max</th>\n",
              "      <td>7.000000</td>\n",
              "      <td>190.000000</td>\n",
              "      <td>113.000000</td>\n",
              "      <td>75.000000</td>\n",
              "      <td>1.000000</td>\n",
              "    </tr>\n",
              "  </tbody>\n",
              "</table>\n",
              "</div>\n",
              "      <button class=\"colab-df-convert\" onclick=\"convertToInteractive('df-6592500b-f9f3-4be3-975c-f3f2b0663844')\"\n",
              "              title=\"Convert this dataframe to an interactive table.\"\n",
              "              style=\"display:none;\">\n",
              "        \n",
              "  <svg xmlns=\"http://www.w3.org/2000/svg\" height=\"24px\"viewBox=\"0 0 24 24\"\n",
              "       width=\"24px\">\n",
              "    <path d=\"M0 0h24v24H0V0z\" fill=\"none\"/>\n",
              "    <path d=\"M18.56 5.44l.94 2.06.94-2.06 2.06-.94-2.06-.94-.94-2.06-.94 2.06-2.06.94zm-11 1L8.5 8.5l.94-2.06 2.06-.94-2.06-.94L8.5 2.5l-.94 2.06-2.06.94zm10 10l.94 2.06.94-2.06 2.06-.94-2.06-.94-.94-2.06-.94 2.06-2.06.94z\"/><path d=\"M17.41 7.96l-1.37-1.37c-.4-.4-.92-.59-1.43-.59-.52 0-1.04.2-1.43.59L10.3 9.45l-7.72 7.72c-.78.78-.78 2.05 0 2.83L4 21.41c.39.39.9.59 1.41.59.51 0 1.02-.2 1.41-.59l7.78-7.78 2.81-2.81c.8-.78.8-2.07 0-2.86zM5.41 20L4 18.59l7.72-7.72 1.47 1.35L5.41 20z\"/>\n",
              "  </svg>\n",
              "      </button>\n",
              "      \n",
              "  <style>\n",
              "    .colab-df-container {\n",
              "      display:flex;\n",
              "      flex-wrap:wrap;\n",
              "      gap: 12px;\n",
              "    }\n",
              "\n",
              "    .colab-df-convert {\n",
              "      background-color: #E8F0FE;\n",
              "      border: none;\n",
              "      border-radius: 50%;\n",
              "      cursor: pointer;\n",
              "      display: none;\n",
              "      fill: #1967D2;\n",
              "      height: 32px;\n",
              "      padding: 0 0 0 0;\n",
              "      width: 32px;\n",
              "    }\n",
              "\n",
              "    .colab-df-convert:hover {\n",
              "      background-color: #E2EBFA;\n",
              "      box-shadow: 0px 1px 2px rgba(60, 64, 67, 0.3), 0px 1px 3px 1px rgba(60, 64, 67, 0.15);\n",
              "      fill: #174EA6;\n",
              "    }\n",
              "\n",
              "    [theme=dark] .colab-df-convert {\n",
              "      background-color: #3B4455;\n",
              "      fill: #D2E3FC;\n",
              "    }\n",
              "\n",
              "    [theme=dark] .colab-df-convert:hover {\n",
              "      background-color: #434B5C;\n",
              "      box-shadow: 0px 1px 3px 1px rgba(0, 0, 0, 0.15);\n",
              "      filter: drop-shadow(0px 1px 2px rgba(0, 0, 0, 0.3));\n",
              "      fill: #FFFFFF;\n",
              "    }\n",
              "  </style>\n",
              "\n",
              "      <script>\n",
              "        const buttonEl =\n",
              "          document.querySelector('#df-6592500b-f9f3-4be3-975c-f3f2b0663844 button.colab-df-convert');\n",
              "        buttonEl.style.display =\n",
              "          google.colab.kernel.accessAllowed ? 'block' : 'none';\n",
              "\n",
              "        async function convertToInteractive(key) {\n",
              "          const element = document.querySelector('#df-6592500b-f9f3-4be3-975c-f3f2b0663844');\n",
              "          const dataTable =\n",
              "            await google.colab.kernel.invokeFunction('convertToInteractive',\n",
              "                                                     [key], {});\n",
              "          if (!dataTable) return;\n",
              "\n",
              "          const docLinkHtml = 'Like what you see? Visit the ' +\n",
              "            '<a target=\"_blank\" href=https://colab.research.google.com/notebooks/data_table.ipynb>data table notebook</a>'\n",
              "            + ' to learn more about interactive tables.';\n",
              "          element.innerHTML = '';\n",
              "          dataTable['output_type'] = 'display_data';\n",
              "          await google.colab.output.renderOutput(dataTable, element);\n",
              "          const docLink = document.createElement('div');\n",
              "          docLink.innerHTML = docLinkHtml;\n",
              "          element.appendChild(docLink);\n",
              "        }\n",
              "      </script>\n",
              "    </div>\n",
              "  </div>\n",
              "  "
            ]
          },
          "metadata": {},
          "execution_count": 48
        }
      ],
      "source": [
        "pd.DataFrame(data).describe()"
      ]
    },
    {
      "cell_type": "markdown",
      "source": [
        "Se identifica qué tipo de datos contienen los atributos de la base de datos. Nótese que fuel y object son tipo  object y los otros atributos son numeros enteros. "
      ],
      "metadata": {
        "id": "_ICV0WzwFKsA"
      }
    },
    {
      "cell_type": "code",
      "execution_count": 49,
      "metadata": {
        "colab": {
          "base_uri": "https://localhost:8080/"
        },
        "id": "yfo3AeDMuy3z",
        "outputId": "989ac1a5-cfd5-4a5f-d4c0-faac52b1f761"
      },
      "outputs": [
        {
          "output_type": "stream",
          "name": "stdout",
          "text": [
            "<class 'pandas.core.frame.DataFrame'>\n",
            "RangeIndex: 17442 entries, 0 to 17441\n",
            "Data columns (total 7 columns):\n",
            " #   Column     Non-Null Count  Dtype \n",
            "---  ------     --------------  ----- \n",
            " 0   SIZE       17442 non-null  int64 \n",
            " 1   FUEL       17442 non-null  object\n",
            " 2   DISTANCE   17442 non-null  int64 \n",
            " 3   DESIBEL    17442 non-null  int64 \n",
            " 4   AIRFLOW    17442 non-null  object\n",
            " 5   FREQUENCY  17442 non-null  int64 \n",
            " 6   STATUS     17442 non-null  int64 \n",
            "dtypes: int64(5), object(2)\n",
            "memory usage: 954.0+ KB\n"
          ]
        }
      ],
      "source": [
        "data.info()"
      ]
    },
    {
      "cell_type": "code",
      "source": [
        "print(data['FUEL'].unique())"
      ],
      "metadata": {
        "colab": {
          "base_uri": "https://localhost:8080/"
        },
        "id": "jUpTEK3fTApy",
        "outputId": "9d84e492-4d2d-4bc1-96da-65a47cbf4e86"
      },
      "execution_count": 50,
      "outputs": [
        {
          "output_type": "stream",
          "name": "stdout",
          "text": [
            "['gasoline' 'thinner' 'kerosene' 'lpg']\n"
          ]
        }
      ]
    },
    {
      "cell_type": "code",
      "source": [
        "#Modificamos los atributos tipo STRING a un valor entre 0 y 3. \n",
        "data['FUEL']=data['FUEL'].replace({'gasoline': 0, 'kerosene' :1, 'thinner' :2, 'lpg' :3})"
      ],
      "metadata": {
        "id": "sTR4STit8YOp"
      },
      "execution_count": 51,
      "outputs": []
    },
    {
      "cell_type": "code",
      "source": [
        "#Ahora se puede notar que ahora ya se realizó el cambió anterior.\n",
        "print(data['FUEL'].unique())"
      ],
      "metadata": {
        "colab": {
          "base_uri": "https://localhost:8080/"
        },
        "id": "mHcco1aXCl_J",
        "outputId": "a038542f-ae48-4cd0-e037-41a876f15a9a"
      },
      "execution_count": 52,
      "outputs": [
        {
          "output_type": "stream",
          "name": "stdout",
          "text": [
            "[0 2 1 3]\n"
          ]
        }
      ]
    },
    {
      "cell_type": "code",
      "source": [
        "# Cambiamos commas a puntos en AirFlow\n",
        "\n",
        "data['AIRFLOW']=data['AIRFLOW'].str. replace(',', '.')"
      ],
      "metadata": {
        "id": "u1uTwU2cD_5X"
      },
      "execution_count": 53,
      "outputs": []
    },
    {
      "cell_type": "code",
      "source": [
        "#Se cambia la variable Airflow a tipo numérica\n",
        "\n",
        "data['AIRFLOW'] = data['AIRFLOW'].astype(float, errors = 'raise')"
      ],
      "metadata": {
        "id": "8fyq1l9iTX1C"
      },
      "execution_count": 54,
      "outputs": []
    },
    {
      "cell_type": "code",
      "source": [
        "data.info()"
      ],
      "metadata": {
        "colab": {
          "base_uri": "https://localhost:8080/"
        },
        "id": "Dkv1Fp3EUdJR",
        "outputId": "5b0dd1db-2db9-43ec-eff5-44d3bbc05a45"
      },
      "execution_count": 55,
      "outputs": [
        {
          "output_type": "stream",
          "name": "stdout",
          "text": [
            "<class 'pandas.core.frame.DataFrame'>\n",
            "RangeIndex: 17442 entries, 0 to 17441\n",
            "Data columns (total 7 columns):\n",
            " #   Column     Non-Null Count  Dtype  \n",
            "---  ------     --------------  -----  \n",
            " 0   SIZE       17442 non-null  int64  \n",
            " 1   FUEL       17442 non-null  int64  \n",
            " 2   DISTANCE   17442 non-null  int64  \n",
            " 3   DESIBEL    17442 non-null  int64  \n",
            " 4   AIRFLOW    17442 non-null  float64\n",
            " 5   FREQUENCY  17442 non-null  int64  \n",
            " 6   STATUS     17442 non-null  int64  \n",
            "dtypes: float64(1), int64(6)\n",
            "memory usage: 954.0 KB\n"
          ]
        }
      ]
    },
    {
      "cell_type": "markdown",
      "source": [
        "Obtenemos la matriz de correlación para profundizar en los datos y ver la relación entre ellos"
      ],
      "metadata": {
        "id": "T3nX_rYhFZNo"
      }
    },
    {
      "cell_type": "code",
      "source": [
        "correlation_matrix = data.corr()\n",
        "correlation_matrix"
      ],
      "metadata": {
        "colab": {
          "base_uri": "https://localhost:8080/",
          "height": 269
        },
        "id": "sd-zUtE1-Z1o",
        "outputId": "a61fb0dd-0945-4f7b-f184-d78a67bd466a"
      },
      "execution_count": 56,
      "outputs": [
        {
          "output_type": "execute_result",
          "data": {
            "text/plain": [
              "                   SIZE          FUEL      DISTANCE       DESIBEL  \\\n",
              "SIZE       1.000000e+00  4.142890e-01 -2.437871e-15 -6.125585e-15   \n",
              "FUEL       4.142890e-01  1.000000e+00 -1.805764e-15 -1.314009e-14   \n",
              "DISTANCE  -2.437871e-15 -1.805764e-15  1.000000e+00 -2.385897e-01   \n",
              "DESIBEL   -6.125585e-15 -1.314009e-14 -2.385897e-01  1.000000e+00   \n",
              "AIRFLOW    1.677898e-16 -8.603500e-16 -7.074906e-01  3.769153e-01   \n",
              "FREQUENCY  9.978281e-17 -4.801738e-16 -2.452947e-17  5.617409e-01   \n",
              "STATUS    -9.694718e-02 -1.151423e-03 -6.440506e-01  2.039698e-01   \n",
              "\n",
              "                AIRFLOW     FREQUENCY    STATUS  \n",
              "SIZE       1.677898e-16  9.978281e-17 -0.096947  \n",
              "FUEL      -8.603500e-16 -4.801738e-16 -0.001151  \n",
              "DISTANCE  -7.074906e-01 -2.452947e-17 -0.644051  \n",
              "DESIBEL    3.769153e-01  5.617409e-01  0.203970  \n",
              "AIRFLOW    1.000000e+00 -2.120462e-01  0.760628  \n",
              "FREQUENCY -2.120462e-01  1.000000e+00 -0.244203  \n",
              "STATUS     7.606279e-01 -2.442030e-01  1.000000  "
            ],
            "text/html": [
              "\n",
              "  <div id=\"df-d031f29a-2e10-452a-ab87-71041faeedae\">\n",
              "    <div class=\"colab-df-container\">\n",
              "      <div>\n",
              "<style scoped>\n",
              "    .dataframe tbody tr th:only-of-type {\n",
              "        vertical-align: middle;\n",
              "    }\n",
              "\n",
              "    .dataframe tbody tr th {\n",
              "        vertical-align: top;\n",
              "    }\n",
              "\n",
              "    .dataframe thead th {\n",
              "        text-align: right;\n",
              "    }\n",
              "</style>\n",
              "<table border=\"1\" class=\"dataframe\">\n",
              "  <thead>\n",
              "    <tr style=\"text-align: right;\">\n",
              "      <th></th>\n",
              "      <th>SIZE</th>\n",
              "      <th>FUEL</th>\n",
              "      <th>DISTANCE</th>\n",
              "      <th>DESIBEL</th>\n",
              "      <th>AIRFLOW</th>\n",
              "      <th>FREQUENCY</th>\n",
              "      <th>STATUS</th>\n",
              "    </tr>\n",
              "  </thead>\n",
              "  <tbody>\n",
              "    <tr>\n",
              "      <th>SIZE</th>\n",
              "      <td>1.000000e+00</td>\n",
              "      <td>4.142890e-01</td>\n",
              "      <td>-2.437871e-15</td>\n",
              "      <td>-6.125585e-15</td>\n",
              "      <td>1.677898e-16</td>\n",
              "      <td>9.978281e-17</td>\n",
              "      <td>-0.096947</td>\n",
              "    </tr>\n",
              "    <tr>\n",
              "      <th>FUEL</th>\n",
              "      <td>4.142890e-01</td>\n",
              "      <td>1.000000e+00</td>\n",
              "      <td>-1.805764e-15</td>\n",
              "      <td>-1.314009e-14</td>\n",
              "      <td>-8.603500e-16</td>\n",
              "      <td>-4.801738e-16</td>\n",
              "      <td>-0.001151</td>\n",
              "    </tr>\n",
              "    <tr>\n",
              "      <th>DISTANCE</th>\n",
              "      <td>-2.437871e-15</td>\n",
              "      <td>-1.805764e-15</td>\n",
              "      <td>1.000000e+00</td>\n",
              "      <td>-2.385897e-01</td>\n",
              "      <td>-7.074906e-01</td>\n",
              "      <td>-2.452947e-17</td>\n",
              "      <td>-0.644051</td>\n",
              "    </tr>\n",
              "    <tr>\n",
              "      <th>DESIBEL</th>\n",
              "      <td>-6.125585e-15</td>\n",
              "      <td>-1.314009e-14</td>\n",
              "      <td>-2.385897e-01</td>\n",
              "      <td>1.000000e+00</td>\n",
              "      <td>3.769153e-01</td>\n",
              "      <td>5.617409e-01</td>\n",
              "      <td>0.203970</td>\n",
              "    </tr>\n",
              "    <tr>\n",
              "      <th>AIRFLOW</th>\n",
              "      <td>1.677898e-16</td>\n",
              "      <td>-8.603500e-16</td>\n",
              "      <td>-7.074906e-01</td>\n",
              "      <td>3.769153e-01</td>\n",
              "      <td>1.000000e+00</td>\n",
              "      <td>-2.120462e-01</td>\n",
              "      <td>0.760628</td>\n",
              "    </tr>\n",
              "    <tr>\n",
              "      <th>FREQUENCY</th>\n",
              "      <td>9.978281e-17</td>\n",
              "      <td>-4.801738e-16</td>\n",
              "      <td>-2.452947e-17</td>\n",
              "      <td>5.617409e-01</td>\n",
              "      <td>-2.120462e-01</td>\n",
              "      <td>1.000000e+00</td>\n",
              "      <td>-0.244203</td>\n",
              "    </tr>\n",
              "    <tr>\n",
              "      <th>STATUS</th>\n",
              "      <td>-9.694718e-02</td>\n",
              "      <td>-1.151423e-03</td>\n",
              "      <td>-6.440506e-01</td>\n",
              "      <td>2.039698e-01</td>\n",
              "      <td>7.606279e-01</td>\n",
              "      <td>-2.442030e-01</td>\n",
              "      <td>1.000000</td>\n",
              "    </tr>\n",
              "  </tbody>\n",
              "</table>\n",
              "</div>\n",
              "      <button class=\"colab-df-convert\" onclick=\"convertToInteractive('df-d031f29a-2e10-452a-ab87-71041faeedae')\"\n",
              "              title=\"Convert this dataframe to an interactive table.\"\n",
              "              style=\"display:none;\">\n",
              "        \n",
              "  <svg xmlns=\"http://www.w3.org/2000/svg\" height=\"24px\"viewBox=\"0 0 24 24\"\n",
              "       width=\"24px\">\n",
              "    <path d=\"M0 0h24v24H0V0z\" fill=\"none\"/>\n",
              "    <path d=\"M18.56 5.44l.94 2.06.94-2.06 2.06-.94-2.06-.94-.94-2.06-.94 2.06-2.06.94zm-11 1L8.5 8.5l.94-2.06 2.06-.94-2.06-.94L8.5 2.5l-.94 2.06-2.06.94zm10 10l.94 2.06.94-2.06 2.06-.94-2.06-.94-.94-2.06-.94 2.06-2.06.94z\"/><path d=\"M17.41 7.96l-1.37-1.37c-.4-.4-.92-.59-1.43-.59-.52 0-1.04.2-1.43.59L10.3 9.45l-7.72 7.72c-.78.78-.78 2.05 0 2.83L4 21.41c.39.39.9.59 1.41.59.51 0 1.02-.2 1.41-.59l7.78-7.78 2.81-2.81c.8-.78.8-2.07 0-2.86zM5.41 20L4 18.59l7.72-7.72 1.47 1.35L5.41 20z\"/>\n",
              "  </svg>\n",
              "      </button>\n",
              "      \n",
              "  <style>\n",
              "    .colab-df-container {\n",
              "      display:flex;\n",
              "      flex-wrap:wrap;\n",
              "      gap: 12px;\n",
              "    }\n",
              "\n",
              "    .colab-df-convert {\n",
              "      background-color: #E8F0FE;\n",
              "      border: none;\n",
              "      border-radius: 50%;\n",
              "      cursor: pointer;\n",
              "      display: none;\n",
              "      fill: #1967D2;\n",
              "      height: 32px;\n",
              "      padding: 0 0 0 0;\n",
              "      width: 32px;\n",
              "    }\n",
              "\n",
              "    .colab-df-convert:hover {\n",
              "      background-color: #E2EBFA;\n",
              "      box-shadow: 0px 1px 2px rgba(60, 64, 67, 0.3), 0px 1px 3px 1px rgba(60, 64, 67, 0.15);\n",
              "      fill: #174EA6;\n",
              "    }\n",
              "\n",
              "    [theme=dark] .colab-df-convert {\n",
              "      background-color: #3B4455;\n",
              "      fill: #D2E3FC;\n",
              "    }\n",
              "\n",
              "    [theme=dark] .colab-df-convert:hover {\n",
              "      background-color: #434B5C;\n",
              "      box-shadow: 0px 1px 3px 1px rgba(0, 0, 0, 0.15);\n",
              "      filter: drop-shadow(0px 1px 2px rgba(0, 0, 0, 0.3));\n",
              "      fill: #FFFFFF;\n",
              "    }\n",
              "  </style>\n",
              "\n",
              "      <script>\n",
              "        const buttonEl =\n",
              "          document.querySelector('#df-d031f29a-2e10-452a-ab87-71041faeedae button.colab-df-convert');\n",
              "        buttonEl.style.display =\n",
              "          google.colab.kernel.accessAllowed ? 'block' : 'none';\n",
              "\n",
              "        async function convertToInteractive(key) {\n",
              "          const element = document.querySelector('#df-d031f29a-2e10-452a-ab87-71041faeedae');\n",
              "          const dataTable =\n",
              "            await google.colab.kernel.invokeFunction('convertToInteractive',\n",
              "                                                     [key], {});\n",
              "          if (!dataTable) return;\n",
              "\n",
              "          const docLinkHtml = 'Like what you see? Visit the ' +\n",
              "            '<a target=\"_blank\" href=https://colab.research.google.com/notebooks/data_table.ipynb>data table notebook</a>'\n",
              "            + ' to learn more about interactive tables.';\n",
              "          element.innerHTML = '';\n",
              "          dataTable['output_type'] = 'display_data';\n",
              "          await google.colab.output.renderOutput(dataTable, element);\n",
              "          const docLink = document.createElement('div');\n",
              "          docLink.innerHTML = docLinkHtml;\n",
              "          element.appendChild(docLink);\n",
              "        }\n",
              "      </script>\n",
              "    </div>\n",
              "  </div>\n",
              "  "
            ]
          },
          "metadata": {},
          "execution_count": 56
        }
      ]
    },
    {
      "cell_type": "code",
      "source": [
        "#Se puede apreciar que las variable size y frequency estan muy relacionadas\n",
        "#Asi como correlaciones negativas entre algunas variables. "
      ],
      "metadata": {
        "id": "gDyzH68YUTVD"
      },
      "execution_count": 57,
      "outputs": []
    },
    {
      "cell_type": "markdown",
      "source": [
        "## **Metodos de ensamble y cuáles son sus principales características.**"
      ],
      "metadata": {
        "id": "vH6BsDRP5HEm"
      }
    },
    {
      "cell_type": "markdown",
      "source": [
        "Los métodos de ensable intentan ayudar a mejorar el rendimiento intentan ayudar a mejorar el rendimiento de los modelos de Machine Learning al mejorar su precisión. Este es un modelo en que se construyen estratégicamente varios modelos de Machine Learning para resolver un problema particular. \n",
        "Otra manera de decirlo es el arte de combinar un conjunto de diversos modelos, para improvisar sobre la estabilidad y el poder predictivo del modelo. \n",
        "Características:\n",
        "-El supuesto es que todas las predicciones son completamente independientes. \n",
        "-Combina predicciones de varios modelos, promedia errores y produce mejores precciones generales. \n",
        "\n",
        "Algunos son: Random Forest, agregación Bootstrap o Bagging, Stacking"
      ],
      "metadata": {
        "id": "p9ZXdEYX5Pwz"
      }
    },
    {
      "cell_type": "markdown",
      "source": [
        "El problema al que nos enfrentamos es de clasificación. Se intentará predecir la variable: \"Status\", el cual dadas las características de size, fuel, distance, airflow y frequency predecir el estado del fuego (1: se apagó, 0 : sigue encendido)\n",
        "\n",
        "Se procederá a usar los siguientes modelos: KNN, árboles de decisión, máquinas de soporte vectorial."
      ],
      "metadata": {
        "id": "WGuFSYwhXV7D"
      }
    },
    {
      "cell_type": "markdown",
      "source": [
        "Vamos a definir las features, el target, y la divisón de los datos. Para usar los mismos datos de entrenamiento y testeo en todos los modelos y proceder a hacer la comparación."
      ],
      "metadata": {
        "id": "rrCkvDAKYcFy"
      }
    },
    {
      "cell_type": "code",
      "source": [
        "#Definimos las features que utilizaremos para nuestro modelo\n",
        "features = data[['SIZE','FUEL','DISTANCE', 'AIRFLOW', 'FREQUENCY']]"
      ],
      "metadata": {
        "id": "mITvEthJ71qv"
      },
      "execution_count": 58,
      "outputs": []
    },
    {
      "cell_type": "code",
      "source": [
        "#Definimos nuestra predicción meta\n",
        "labels = data['STATUS']"
      ],
      "metadata": {
        "id": "IXKgDvfx9LxJ"
      },
      "execution_count": 59,
      "outputs": []
    },
    {
      "cell_type": "code",
      "source": [
        "#importamos la librería que nos permite hacer una correcta división de los datos\n",
        "from sklearn.model_selection import train_test_split"
      ],
      "metadata": {
        "id": "UHQAiUDA9QXI"
      },
      "execution_count": 60,
      "outputs": []
    },
    {
      "cell_type": "code",
      "source": [
        "#Creamos el set de datos de entrenamiento y testing\n",
        "X_train, X_test, y_train, y_test = train_test_split(features,labels, random_state=13) "
      ],
      "metadata": {
        "id": "dEJQ-Y609aY4"
      },
      "execution_count": 61,
      "outputs": []
    },
    {
      "cell_type": "code",
      "source": [
        "#Se asegura que la divisón sea la deseada \n",
        "X_train.shape"
      ],
      "metadata": {
        "colab": {
          "base_uri": "https://localhost:8080/"
        },
        "id": "Fv1psXpc9pbp",
        "outputId": "d48dada5-45c5-4c6d-9b76-840b8105ccff"
      },
      "execution_count": 62,
      "outputs": [
        {
          "output_type": "execute_result",
          "data": {
            "text/plain": [
              "(13081, 5)"
            ]
          },
          "metadata": {},
          "execution_count": 62
        }
      ]
    },
    {
      "cell_type": "code",
      "source": [
        "X_test.shape"
      ],
      "metadata": {
        "id": "QvWSk1SB9tfI",
        "colab": {
          "base_uri": "https://localhost:8080/"
        },
        "outputId": "eab97fdd-ab33-4f0b-c366-14803fccb461"
      },
      "execution_count": 63,
      "outputs": [
        {
          "output_type": "execute_result",
          "data": {
            "text/plain": [
              "(4361, 5)"
            ]
          },
          "metadata": {},
          "execution_count": 63
        }
      ]
    },
    {
      "cell_type": "code",
      "source": [
        "y_train.shape"
      ],
      "metadata": {
        "colab": {
          "base_uri": "https://localhost:8080/"
        },
        "id": "t42nJkjF9xBn",
        "outputId": "2db7e59f-0318-4793-dead-f5fffecec83e"
      },
      "execution_count": 64,
      "outputs": [
        {
          "output_type": "execute_result",
          "data": {
            "text/plain": [
              "(13081,)"
            ]
          },
          "metadata": {},
          "execution_count": 64
        }
      ]
    },
    {
      "cell_type": "code",
      "source": [
        "y_test.shape"
      ],
      "metadata": {
        "colab": {
          "base_uri": "https://localhost:8080/"
        },
        "id": "zSTXx2m69zwH",
        "outputId": "8b9be745-5aa7-4f2f-ad56-085ca18e9348"
      },
      "execution_count": 65,
      "outputs": [
        {
          "output_type": "execute_result",
          "data": {
            "text/plain": [
              "(4361,)"
            ]
          },
          "metadata": {},
          "execution_count": 65
        }
      ]
    },
    {
      "cell_type": "code",
      "source": [
        "from sklearn.metrics import accuracy_score\n",
        "from sklearn.metrics import confusion_matrix\n",
        "from sklearn.metrics import precision_score\n",
        "from sklearn.metrics import f1_score\n",
        "from sklearn.metrics import recall_score\n",
        "from sklearn.metrics import classification_report\n",
        "from sklearn.metrics import recall_score\n",
        "from sklearn.metrics import mean_squared_error\n",
        "from math import sqrt\n",
        "import matplotlib.pyplot as plt\n",
        "import numpy as np"
      ],
      "metadata": {
        "id": "1-oVKFsp9_Bx"
      },
      "execution_count": 66,
      "outputs": []
    },
    {
      "cell_type": "markdown",
      "source": [
        "**# MODELO: ÁRBOLES DE DECISIÓN.**\n",
        "\n",
        "\n",
        "\n"
      ],
      "metadata": {
        "id": "EfAeiM1xY_KS"
      }
    },
    {
      "cell_type": "code",
      "source": [
        "from sklearn.tree import DecisionTreeClassifier"
      ],
      "metadata": {
        "id": "w5giJPD-Z90K"
      },
      "execution_count": 67,
      "outputs": []
    },
    {
      "cell_type": "markdown",
      "source": [
        "Se va a proceder a hacer un ciclo para ver cuál es profundidad del árbol que muestra mejor ajuste. "
      ],
      "metadata": {
        "id": "j8IoXfvbZWgC"
      }
    },
    {
      "cell_type": "code",
      "source": [
        "df= pd.DataFrame()\n",
        "df['Profundidad'] = None\n",
        "df['Accuracy'] = None\n",
        "df['Error'] = None\n",
        "\n",
        "for profundidad in range(1,31):\n",
        "  #Se guarda el modelo que se va a usar: árboles de decisión de clasificación\n",
        "  DecisionTreeModel = DecisionTreeClassifier(max_depth =profundidad)\n",
        "  DecisionTreeModel.fit(X_train,y_train)\n",
        "  y_predict = DecisionTreeModel.predict(X_test)\n",
        "  accuracy = accuracy_score(y_test, y_predict)\n",
        "  mse = mean_squared_error(y_test, y_predict)\n",
        "  rmse = sqrt(mse)\n",
        "  nueva_fila = { 'Profundidad': profundidad, 'Accuracy': accuracy, 'Error': rmse }\n",
        "  df = df.append(nueva_fila, ignore_index=True)\n",
        "\n",
        "\n",
        "                      "
      ],
      "metadata": {
        "id": "kyFfPFt0ZouK"
      },
      "execution_count": 68,
      "outputs": []
    },
    {
      "cell_type": "code",
      "source": [
        " df"
      ],
      "metadata": {
        "colab": {
          "base_uri": "https://localhost:8080/",
          "height": 990
        },
        "id": "DGie10R_fyTm",
        "outputId": "957a0fbb-7827-49ce-bf63-87be745f9c51"
      },
      "execution_count": 69,
      "outputs": [
        {
          "output_type": "execute_result",
          "data": {
            "text/plain": [
              "    Profundidad  Accuracy     Error\n",
              "0           1.0  0.861041  0.372772\n",
              "1           2.0  0.861041  0.372772\n",
              "2           3.0  0.849346  0.388141\n",
              "3           4.0  0.883054  0.341973\n",
              "4           5.0  0.898418  0.318720\n",
              "5           6.0  0.907361  0.304367\n",
              "6           7.0  0.920660  0.281673\n",
              "7           8.0  0.942444  0.239907\n",
              "8           9.0  0.942903  0.238950\n",
              "9          10.0  0.950470  0.222553\n",
              "10         11.0  0.957808  0.205407\n",
              "11         12.0  0.963540  0.190944\n",
              "12         13.0  0.962165  0.194513\n",
              "13         14.0  0.963082  0.192141\n",
              "14         15.0  0.962165  0.194513\n",
              "15         16.0  0.962394  0.193923\n",
              "16         17.0  0.961706  0.195688\n",
              "17         18.0  0.961477  0.196273\n",
              "18         19.0  0.963082  0.192141\n",
              "19         20.0  0.963082  0.192141\n",
              "20         21.0  0.961935  0.195102\n",
              "21         22.0  0.962165  0.194513\n",
              "22         23.0  0.963540  0.190944\n",
              "23         24.0  0.961247  0.196857\n",
              "24         25.0  0.961935  0.195102\n",
              "25         26.0  0.962165  0.194513\n",
              "26         27.0  0.961935  0.195102\n",
              "27         28.0  0.961477  0.196273\n",
              "28         29.0  0.961477  0.196273\n",
              "29         30.0  0.961247  0.196857"
            ],
            "text/html": [
              "\n",
              "  <div id=\"df-47963cc7-a66b-407f-9be5-f2734337778b\">\n",
              "    <div class=\"colab-df-container\">\n",
              "      <div>\n",
              "<style scoped>\n",
              "    .dataframe tbody tr th:only-of-type {\n",
              "        vertical-align: middle;\n",
              "    }\n",
              "\n",
              "    .dataframe tbody tr th {\n",
              "        vertical-align: top;\n",
              "    }\n",
              "\n",
              "    .dataframe thead th {\n",
              "        text-align: right;\n",
              "    }\n",
              "</style>\n",
              "<table border=\"1\" class=\"dataframe\">\n",
              "  <thead>\n",
              "    <tr style=\"text-align: right;\">\n",
              "      <th></th>\n",
              "      <th>Profundidad</th>\n",
              "      <th>Accuracy</th>\n",
              "      <th>Error</th>\n",
              "    </tr>\n",
              "  </thead>\n",
              "  <tbody>\n",
              "    <tr>\n",
              "      <th>0</th>\n",
              "      <td>1.0</td>\n",
              "      <td>0.861041</td>\n",
              "      <td>0.372772</td>\n",
              "    </tr>\n",
              "    <tr>\n",
              "      <th>1</th>\n",
              "      <td>2.0</td>\n",
              "      <td>0.861041</td>\n",
              "      <td>0.372772</td>\n",
              "    </tr>\n",
              "    <tr>\n",
              "      <th>2</th>\n",
              "      <td>3.0</td>\n",
              "      <td>0.849346</td>\n",
              "      <td>0.388141</td>\n",
              "    </tr>\n",
              "    <tr>\n",
              "      <th>3</th>\n",
              "      <td>4.0</td>\n",
              "      <td>0.883054</td>\n",
              "      <td>0.341973</td>\n",
              "    </tr>\n",
              "    <tr>\n",
              "      <th>4</th>\n",
              "      <td>5.0</td>\n",
              "      <td>0.898418</td>\n",
              "      <td>0.318720</td>\n",
              "    </tr>\n",
              "    <tr>\n",
              "      <th>5</th>\n",
              "      <td>6.0</td>\n",
              "      <td>0.907361</td>\n",
              "      <td>0.304367</td>\n",
              "    </tr>\n",
              "    <tr>\n",
              "      <th>6</th>\n",
              "      <td>7.0</td>\n",
              "      <td>0.920660</td>\n",
              "      <td>0.281673</td>\n",
              "    </tr>\n",
              "    <tr>\n",
              "      <th>7</th>\n",
              "      <td>8.0</td>\n",
              "      <td>0.942444</td>\n",
              "      <td>0.239907</td>\n",
              "    </tr>\n",
              "    <tr>\n",
              "      <th>8</th>\n",
              "      <td>9.0</td>\n",
              "      <td>0.942903</td>\n",
              "      <td>0.238950</td>\n",
              "    </tr>\n",
              "    <tr>\n",
              "      <th>9</th>\n",
              "      <td>10.0</td>\n",
              "      <td>0.950470</td>\n",
              "      <td>0.222553</td>\n",
              "    </tr>\n",
              "    <tr>\n",
              "      <th>10</th>\n",
              "      <td>11.0</td>\n",
              "      <td>0.957808</td>\n",
              "      <td>0.205407</td>\n",
              "    </tr>\n",
              "    <tr>\n",
              "      <th>11</th>\n",
              "      <td>12.0</td>\n",
              "      <td>0.963540</td>\n",
              "      <td>0.190944</td>\n",
              "    </tr>\n",
              "    <tr>\n",
              "      <th>12</th>\n",
              "      <td>13.0</td>\n",
              "      <td>0.962165</td>\n",
              "      <td>0.194513</td>\n",
              "    </tr>\n",
              "    <tr>\n",
              "      <th>13</th>\n",
              "      <td>14.0</td>\n",
              "      <td>0.963082</td>\n",
              "      <td>0.192141</td>\n",
              "    </tr>\n",
              "    <tr>\n",
              "      <th>14</th>\n",
              "      <td>15.0</td>\n",
              "      <td>0.962165</td>\n",
              "      <td>0.194513</td>\n",
              "    </tr>\n",
              "    <tr>\n",
              "      <th>15</th>\n",
              "      <td>16.0</td>\n",
              "      <td>0.962394</td>\n",
              "      <td>0.193923</td>\n",
              "    </tr>\n",
              "    <tr>\n",
              "      <th>16</th>\n",
              "      <td>17.0</td>\n",
              "      <td>0.961706</td>\n",
              "      <td>0.195688</td>\n",
              "    </tr>\n",
              "    <tr>\n",
              "      <th>17</th>\n",
              "      <td>18.0</td>\n",
              "      <td>0.961477</td>\n",
              "      <td>0.196273</td>\n",
              "    </tr>\n",
              "    <tr>\n",
              "      <th>18</th>\n",
              "      <td>19.0</td>\n",
              "      <td>0.963082</td>\n",
              "      <td>0.192141</td>\n",
              "    </tr>\n",
              "    <tr>\n",
              "      <th>19</th>\n",
              "      <td>20.0</td>\n",
              "      <td>0.963082</td>\n",
              "      <td>0.192141</td>\n",
              "    </tr>\n",
              "    <tr>\n",
              "      <th>20</th>\n",
              "      <td>21.0</td>\n",
              "      <td>0.961935</td>\n",
              "      <td>0.195102</td>\n",
              "    </tr>\n",
              "    <tr>\n",
              "      <th>21</th>\n",
              "      <td>22.0</td>\n",
              "      <td>0.962165</td>\n",
              "      <td>0.194513</td>\n",
              "    </tr>\n",
              "    <tr>\n",
              "      <th>22</th>\n",
              "      <td>23.0</td>\n",
              "      <td>0.963540</td>\n",
              "      <td>0.190944</td>\n",
              "    </tr>\n",
              "    <tr>\n",
              "      <th>23</th>\n",
              "      <td>24.0</td>\n",
              "      <td>0.961247</td>\n",
              "      <td>0.196857</td>\n",
              "    </tr>\n",
              "    <tr>\n",
              "      <th>24</th>\n",
              "      <td>25.0</td>\n",
              "      <td>0.961935</td>\n",
              "      <td>0.195102</td>\n",
              "    </tr>\n",
              "    <tr>\n",
              "      <th>25</th>\n",
              "      <td>26.0</td>\n",
              "      <td>0.962165</td>\n",
              "      <td>0.194513</td>\n",
              "    </tr>\n",
              "    <tr>\n",
              "      <th>26</th>\n",
              "      <td>27.0</td>\n",
              "      <td>0.961935</td>\n",
              "      <td>0.195102</td>\n",
              "    </tr>\n",
              "    <tr>\n",
              "      <th>27</th>\n",
              "      <td>28.0</td>\n",
              "      <td>0.961477</td>\n",
              "      <td>0.196273</td>\n",
              "    </tr>\n",
              "    <tr>\n",
              "      <th>28</th>\n",
              "      <td>29.0</td>\n",
              "      <td>0.961477</td>\n",
              "      <td>0.196273</td>\n",
              "    </tr>\n",
              "    <tr>\n",
              "      <th>29</th>\n",
              "      <td>30.0</td>\n",
              "      <td>0.961247</td>\n",
              "      <td>0.196857</td>\n",
              "    </tr>\n",
              "  </tbody>\n",
              "</table>\n",
              "</div>\n",
              "      <button class=\"colab-df-convert\" onclick=\"convertToInteractive('df-47963cc7-a66b-407f-9be5-f2734337778b')\"\n",
              "              title=\"Convert this dataframe to an interactive table.\"\n",
              "              style=\"display:none;\">\n",
              "        \n",
              "  <svg xmlns=\"http://www.w3.org/2000/svg\" height=\"24px\"viewBox=\"0 0 24 24\"\n",
              "       width=\"24px\">\n",
              "    <path d=\"M0 0h24v24H0V0z\" fill=\"none\"/>\n",
              "    <path d=\"M18.56 5.44l.94 2.06.94-2.06 2.06-.94-2.06-.94-.94-2.06-.94 2.06-2.06.94zm-11 1L8.5 8.5l.94-2.06 2.06-.94-2.06-.94L8.5 2.5l-.94 2.06-2.06.94zm10 10l.94 2.06.94-2.06 2.06-.94-2.06-.94-.94-2.06-.94 2.06-2.06.94z\"/><path d=\"M17.41 7.96l-1.37-1.37c-.4-.4-.92-.59-1.43-.59-.52 0-1.04.2-1.43.59L10.3 9.45l-7.72 7.72c-.78.78-.78 2.05 0 2.83L4 21.41c.39.39.9.59 1.41.59.51 0 1.02-.2 1.41-.59l7.78-7.78 2.81-2.81c.8-.78.8-2.07 0-2.86zM5.41 20L4 18.59l7.72-7.72 1.47 1.35L5.41 20z\"/>\n",
              "  </svg>\n",
              "      </button>\n",
              "      \n",
              "  <style>\n",
              "    .colab-df-container {\n",
              "      display:flex;\n",
              "      flex-wrap:wrap;\n",
              "      gap: 12px;\n",
              "    }\n",
              "\n",
              "    .colab-df-convert {\n",
              "      background-color: #E8F0FE;\n",
              "      border: none;\n",
              "      border-radius: 50%;\n",
              "      cursor: pointer;\n",
              "      display: none;\n",
              "      fill: #1967D2;\n",
              "      height: 32px;\n",
              "      padding: 0 0 0 0;\n",
              "      width: 32px;\n",
              "    }\n",
              "\n",
              "    .colab-df-convert:hover {\n",
              "      background-color: #E2EBFA;\n",
              "      box-shadow: 0px 1px 2px rgba(60, 64, 67, 0.3), 0px 1px 3px 1px rgba(60, 64, 67, 0.15);\n",
              "      fill: #174EA6;\n",
              "    }\n",
              "\n",
              "    [theme=dark] .colab-df-convert {\n",
              "      background-color: #3B4455;\n",
              "      fill: #D2E3FC;\n",
              "    }\n",
              "\n",
              "    [theme=dark] .colab-df-convert:hover {\n",
              "      background-color: #434B5C;\n",
              "      box-shadow: 0px 1px 3px 1px rgba(0, 0, 0, 0.15);\n",
              "      filter: drop-shadow(0px 1px 2px rgba(0, 0, 0, 0.3));\n",
              "      fill: #FFFFFF;\n",
              "    }\n",
              "  </style>\n",
              "\n",
              "      <script>\n",
              "        const buttonEl =\n",
              "          document.querySelector('#df-47963cc7-a66b-407f-9be5-f2734337778b button.colab-df-convert');\n",
              "        buttonEl.style.display =\n",
              "          google.colab.kernel.accessAllowed ? 'block' : 'none';\n",
              "\n",
              "        async function convertToInteractive(key) {\n",
              "          const element = document.querySelector('#df-47963cc7-a66b-407f-9be5-f2734337778b');\n",
              "          const dataTable =\n",
              "            await google.colab.kernel.invokeFunction('convertToInteractive',\n",
              "                                                     [key], {});\n",
              "          if (!dataTable) return;\n",
              "\n",
              "          const docLinkHtml = 'Like what you see? Visit the ' +\n",
              "            '<a target=\"_blank\" href=https://colab.research.google.com/notebooks/data_table.ipynb>data table notebook</a>'\n",
              "            + ' to learn more about interactive tables.';\n",
              "          element.innerHTML = '';\n",
              "          dataTable['output_type'] = 'display_data';\n",
              "          await google.colab.output.renderOutput(dataTable, element);\n",
              "          const docLink = document.createElement('div');\n",
              "          docLink.innerHTML = docLinkHtml;\n",
              "          element.appendChild(docLink);\n",
              "        }\n",
              "      </script>\n",
              "    </div>\n",
              "  </div>\n",
              "  "
            ]
          },
          "metadata": {},
          "execution_count": 69
        }
      ]
    },
    {
      "cell_type": "code",
      "source": [
        "fig, ax1 = plt.subplots()\n",
        "ax2 = ax1.twinx()\n",
        "ax1.plot(df.Profundidad,df.Accuracy,'g-')\n",
        "ax2.plot(df.Profundidad,df.Error,'b-')\n",
        " \n",
        "ax1.set_xlabel(\"Profundidad\")\n",
        "ax1.set_ylabel(\"Accuracy\",color='g')\n",
        " \n",
        "ax2.set_ylabel(\"Error\",color='b')\n",
        "\n",
        "plt.title(\"Error y Accuracy del modelo de árboles de decisión para cada K\")\n",
        " \n",
        "plt.show()"
      ],
      "metadata": {
        "colab": {
          "base_uri": "https://localhost:8080/",
          "height": 295
        },
        "id": "Z8HlJuxr0baU",
        "outputId": "5b4ab182-6a1e-434d-c3b7-af886a345d8a"
      },
      "execution_count": 70,
      "outputs": [
        {
          "output_type": "display_data",
          "data": {
            "text/plain": [
              "<Figure size 432x288 with 2 Axes>"
            ],
            "image/png": "[encoded data removed]"
          },
          "metadata": {
            "needs_background": "light"
          }
        }
      ]
    },
    {
      "cell_type": "markdown",
      "source": [
        "Se puede notar que alrededor de 15 de profundidad se puede obtener aproximadamente 96% de accuracy y 0.19 de error.\n",
        "\n",
        "Vamos a mander el modelo el 15 de profundidad y ver otras medidas para evaluar el modelo. \n"
      ],
      "metadata": {
        "id": "h0DGEmXKhFGn"
      }
    },
    {
      "cell_type": "code",
      "source": [
        " DecisionTreeModel = DecisionTreeClassifier(max_depth =15)\n",
        " DecisionTreeModel.fit(X_train,y_train)\n",
        " y_predict = DecisionTreeModel.predict(X_test)\n",
        " accuracy = accuracy_score(y_test, y_predict)\n",
        " accuracy \n",
        "                           "
      ],
      "metadata": {
        "colab": {
          "base_uri": "https://localhost:8080/"
        },
        "id": "VnI-9oirjYqU",
        "outputId": "8bf714ab-e5e4-4ca9-d483-953cccf16110"
      },
      "execution_count": 71,
      "outputs": [
        {
          "output_type": "execute_result",
          "data": {
            "text/plain": [
              "0.962393946342582"
            ]
          },
          "metadata": {},
          "execution_count": 71
        }
      ]
    },
    {
      "cell_type": "markdown",
      "source": [
        "Vamos a utilizar la matriz de confusión, la cual es una herramienta que permite visualizar el desempeño de un algoritmo  de aprendizaje supervisado. Cada columna de la matriz representa el número de predicciones de cada clase, mientras que cada fila representa a las instancias en la clase real., o sea en términos prácticos nos permite ver  qué tipos de aciertos y errores está teniendo nuestro modelo a la hora de pasar por el proceso de aprendizaje con los datos.\n",
        "\n",
        "---\n",
        "\n"
      ],
      "metadata": {
        "id": "nOHVn4kXiclu"
      }
    },
    {
      "cell_type": "code",
      "source": [
        "confusion_matrix(y_test, y_predict)"
      ],
      "metadata": {
        "colab": {
          "base_uri": "https://localhost:8080/"
        },
        "id": "ZRqK9ALS7Skp",
        "outputId": "84fe0f4c-4745-4786-b118-1c04affdc1b5"
      },
      "execution_count": 72,
      "outputs": [
        {
          "output_type": "execute_result",
          "data": {
            "text/plain": [
              "array([[2143,   82],\n",
              "       [  82, 2054]])"
            ]
          },
          "metadata": {},
          "execution_count": 72
        }
      ]
    },
    {
      "cell_type": "markdown",
      "source": [
        "Con la matriz de confusión se pueden calcular diferentes métricas las cuales explicaremos acontinuación: \n",
        "\n",
        "*   Exactitud o accuracy: es el porcentaje de predicciones correctas\n",
        "*   Precisión: el porcentaje de casos positivos que se detectaron correctamente. En este caso el porcentaje de casos que se detectaron como 1 correctamente\n",
        "*  La sensibilidad o \"recall\" se representa como la fracción de verdaderos positivos del total de casos, por ejemplo: En el área de la salud se dice  que la sensibilidad es la capacidad de de poder detectar correctamente la enfermedad entre los enfermos. \n",
        "\n",
        "* Específicidad: la fracción de verdaderos negativos del total de casos. Por ejemplo, En el area de la salud se dice que la especificidad es la capacidad de poder identificar los casos de pacientes sanos entre todos los sanos)\n",
        "Mediciones de la precisión de una prueba\n",
        "*  F1 SCORE: El valor F1 se utiliza para combinar las medidas de precision y recall en un sólo valor. Esto es práctico porque hace más fácil el poder comparar el rendimiento combinado de la precisión y la exhaustividad entre varias soluciones.Puede tener una puntuación máxima de 1 (precisión y recuerdo perfectos) y una mínima de 0. En general, es una medida de la precisión y robustez de su modelo.\n",
        "\n",
        "Fuente: https://www.datasource.ai/es/data-science-articles/comprension-de-la-matriz-de-confusion-y-como-implementarla-en-python\n",
        "\n",
        "Vamos a calcular alguna de estas medidas. \n"
      ],
      "metadata": {
        "id": "lT04tL6tjToX"
      }
    },
    {
      "cell_type": "code",
      "source": [
        "print(\"La precisión con árboles de desición y una profundidad de 15 es:\", precision_score(y_test, y_predict))"
      ],
      "metadata": {
        "colab": {
          "base_uri": "https://localhost:8080/"
        },
        "id": "hpOsyzhc7Sqy",
        "outputId": "d23db4f5-e82c-455e-debb-add136b8e854"
      },
      "execution_count": 73,
      "outputs": [
        {
          "output_type": "stream",
          "name": "stdout",
          "text": [
            "La precisión con árboles de desición y una profundidad de 15 es: 0.9616104868913857\n"
          ]
        }
      ]
    },
    {
      "cell_type": "code",
      "source": [
        "print(\"La sensibilidad  con árboles de desición y una profundidad de 15 es:\", recall_score(y_test, y_predict))"
      ],
      "metadata": {
        "colab": {
          "base_uri": "https://localhost:8080/"
        },
        "id": "jaTDjLK5ns1L",
        "outputId": "e1b44652-a5f6-487a-98d3-3c30e156f501"
      },
      "execution_count": 74,
      "outputs": [
        {
          "output_type": "stream",
          "name": "stdout",
          "text": [
            "La sensibilidad  con árboles de desición y una profundidad de 15 es: 0.9616104868913857\n"
          ]
        }
      ]
    },
    {
      "cell_type": "code",
      "source": [
        "print(\"El F1 SCORE es con árboles de desición y una profundidad de 15 es:\", f1_score(y_test, y_predict))"
      ],
      "metadata": {
        "colab": {
          "base_uri": "https://localhost:8080/"
        },
        "id": "xBwInBLI8zT4",
        "outputId": "950f4b41-2e2d-46ea-ad3d-3d8fea6ccb28"
      },
      "execution_count": 75,
      "outputs": [
        {
          "output_type": "stream",
          "name": "stdout",
          "text": [
            "El F1 SCORE es con árboles de desición y una profundidad de 15 es: 0.9616104868913857\n"
          ]
        }
      ]
    },
    {
      "cell_type": "code",
      "source": [
        "print(\"Un resumen de medidas para evaluar el modelo\")\n",
        "\n",
        "print(classification_report(y_test, y_predict))"
      ],
      "metadata": {
        "colab": {
          "base_uri": "https://localhost:8080/"
        },
        "id": "SVTuq0DNm-o4",
        "outputId": "f711ea07-9142-4bf6-8350-4f5af3700daf"
      },
      "execution_count": 76,
      "outputs": [
        {
          "output_type": "stream",
          "name": "stdout",
          "text": [
            "Un resumen de medidas para evaluar el modelo\n",
            "              precision    recall  f1-score   support\n",
            "\n",
            "           0       0.96      0.96      0.96      2225\n",
            "           1       0.96      0.96      0.96      2136\n",
            "\n",
            "    accuracy                           0.96      4361\n",
            "   macro avg       0.96      0.96      0.96      4361\n",
            "weighted avg       0.96      0.96      0.96      4361\n",
            "\n"
          ]
        }
      ]
    },
    {
      "cell_type": "markdown",
      "source": [
        "En general se puede ver que el modelo se puede decir que predice 96% correctamente"
      ],
      "metadata": {
        "id": "pJKgXLHwo2g3"
      }
    },
    {
      "cell_type": "markdown",
      "source": [
        "Ahora vamos a ver cuáles de las variables que ingresamos al modelo realmente ayudana a la predicción. "
      ],
      "metadata": {
        "id": "-de_ORyopBEm"
      }
    },
    {
      "cell_type": "code",
      "source": [
        "importances = pd.DataFrame({'feature' : X_train.columns, 'importance':DecisionTreeModel.feature_importances_})"
      ],
      "metadata": {
        "id": "P3YyNdRiPuG3"
      },
      "execution_count": 77,
      "outputs": []
    },
    {
      "cell_type": "code",
      "source": [
        "importances = importances.sort_values('importance', ascending = False).set_index('feature')"
      ],
      "metadata": {
        "id": "Ht6Up_AU6sCJ"
      },
      "execution_count": 78,
      "outputs": []
    },
    {
      "cell_type": "code",
      "source": [
        "print(\"AIRFLOW, FREQUENCY Y SIZE son las variables que más ayudan a predicir el modelo. Si quisierámos ahorrar cálculo computacional podríamos intentarlo sin distance y fuel\")\n",
        "\n",
        "importances.head(9)"
      ],
      "metadata": {
        "colab": {
          "base_uri": "https://localhost:8080/",
          "height": 255
        },
        "id": "p-tbCFyn6x5j",
        "outputId": "d75320c3-4f7d-4bbf-827c-11f7fb393b8a"
      },
      "execution_count": 79,
      "outputs": [
        {
          "output_type": "stream",
          "name": "stdout",
          "text": [
            "AIRFLOW, FREQUENCY Y SIZE son las variables que más ayudan a predicir el modelo. Si quisierámos ahorrar cálculo computacional podríamos intentarlo sin distance y fuel\n"
          ]
        },
        {
          "output_type": "execute_result",
          "data": {
            "text/plain": [
              "           importance\n",
              "feature              \n",
              "AIRFLOW      0.637641\n",
              "SIZE         0.108279\n",
              "FREQUENCY    0.106919\n",
              "DISTANCE     0.076313\n",
              "FUEL         0.070848"
            ],
            "text/html": [
              "\n",
              "  <div id=\"df-490c1083-4cf5-442a-828f-3960dd49111b\">\n",
              "    <div class=\"colab-df-container\">\n",
              "      <div>\n",
              "<style scoped>\n",
              "    .dataframe tbody tr th:only-of-type {\n",
              "        vertical-align: middle;\n",
              "    }\n",
              "\n",
              "    .dataframe tbody tr th {\n",
              "        vertical-align: top;\n",
              "    }\n",
              "\n",
              "    .dataframe thead th {\n",
              "        text-align: right;\n",
              "    }\n",
              "</style>\n",
              "<table border=\"1\" class=\"dataframe\">\n",
              "  <thead>\n",
              "    <tr style=\"text-align: right;\">\n",
              "      <th></th>\n",
              "      <th>importance</th>\n",
              "    </tr>\n",
              "    <tr>\n",
              "      <th>feature</th>\n",
              "      <th></th>\n",
              "    </tr>\n",
              "  </thead>\n",
              "  <tbody>\n",
              "    <tr>\n",
              "      <th>AIRFLOW</th>\n",
              "      <td>0.637641</td>\n",
              "    </tr>\n",
              "    <tr>\n",
              "      <th>SIZE</th>\n",
              "      <td>0.108279</td>\n",
              "    </tr>\n",
              "    <tr>\n",
              "      <th>FREQUENCY</th>\n",
              "      <td>0.106919</td>\n",
              "    </tr>\n",
              "    <tr>\n",
              "      <th>DISTANCE</th>\n",
              "      <td>0.076313</td>\n",
              "    </tr>\n",
              "    <tr>\n",
              "      <th>FUEL</th>\n",
              "      <td>0.070848</td>\n",
              "    </tr>\n",
              "  </tbody>\n",
              "</table>\n",
              "</div>\n",
              "      <button class=\"colab-df-convert\" onclick=\"convertToInteractive('df-490c1083-4cf5-442a-828f-3960dd49111b')\"\n",
              "              title=\"Convert this dataframe to an interactive table.\"\n",
              "              style=\"display:none;\">\n",
              "        \n",
              "  <svg xmlns=\"http://www.w3.org/2000/svg\" height=\"24px\"viewBox=\"0 0 24 24\"\n",
              "       width=\"24px\">\n",
              "    <path d=\"M0 0h24v24H0V0z\" fill=\"none\"/>\n",
              "    <path d=\"M18.56 5.44l.94 2.06.94-2.06 2.06-.94-2.06-.94-.94-2.06-.94 2.06-2.06.94zm-11 1L8.5 8.5l.94-2.06 2.06-.94-2.06-.94L8.5 2.5l-.94 2.06-2.06.94zm10 10l.94 2.06.94-2.06 2.06-.94-2.06-.94-.94-2.06-.94 2.06-2.06.94z\"/><path d=\"M17.41 7.96l-1.37-1.37c-.4-.4-.92-.59-1.43-.59-.52 0-1.04.2-1.43.59L10.3 9.45l-7.72 7.72c-.78.78-.78 2.05 0 2.83L4 21.41c.39.39.9.59 1.41.59.51 0 1.02-.2 1.41-.59l7.78-7.78 2.81-2.81c.8-.78.8-2.07 0-2.86zM5.41 20L4 18.59l7.72-7.72 1.47 1.35L5.41 20z\"/>\n",
              "  </svg>\n",
              "      </button>\n",
              "      \n",
              "  <style>\n",
              "    .colab-df-container {\n",
              "      display:flex;\n",
              "      flex-wrap:wrap;\n",
              "      gap: 12px;\n",
              "    }\n",
              "\n",
              "    .colab-df-convert {\n",
              "      background-color: #E8F0FE;\n",
              "      border: none;\n",
              "      border-radius: 50%;\n",
              "      cursor: pointer;\n",
              "      display: none;\n",
              "      fill: #1967D2;\n",
              "      height: 32px;\n",
              "      padding: 0 0 0 0;\n",
              "      width: 32px;\n",
              "    }\n",
              "\n",
              "    .colab-df-convert:hover {\n",
              "      background-color: #E2EBFA;\n",
              "      box-shadow: 0px 1px 2px rgba(60, 64, 67, 0.3), 0px 1px 3px 1px rgba(60, 64, 67, 0.15);\n",
              "      fill: #174EA6;\n",
              "    }\n",
              "\n",
              "    [theme=dark] .colab-df-convert {\n",
              "      background-color: #3B4455;\n",
              "      fill: #D2E3FC;\n",
              "    }\n",
              "\n",
              "    [theme=dark] .colab-df-convert:hover {\n",
              "      background-color: #434B5C;\n",
              "      box-shadow: 0px 1px 3px 1px rgba(0, 0, 0, 0.15);\n",
              "      filter: drop-shadow(0px 1px 2px rgba(0, 0, 0, 0.3));\n",
              "      fill: #FFFFFF;\n",
              "    }\n",
              "  </style>\n",
              "\n",
              "      <script>\n",
              "        const buttonEl =\n",
              "          document.querySelector('#df-490c1083-4cf5-442a-828f-3960dd49111b button.colab-df-convert');\n",
              "        buttonEl.style.display =\n",
              "          google.colab.kernel.accessAllowed ? 'block' : 'none';\n",
              "\n",
              "        async function convertToInteractive(key) {\n",
              "          const element = document.querySelector('#df-490c1083-4cf5-442a-828f-3960dd49111b');\n",
              "          const dataTable =\n",
              "            await google.colab.kernel.invokeFunction('convertToInteractive',\n",
              "                                                     [key], {});\n",
              "          if (!dataTable) return;\n",
              "\n",
              "          const docLinkHtml = 'Like what you see? Visit the ' +\n",
              "            '<a target=\"_blank\" href=https://colab.research.google.com/notebooks/data_table.ipynb>data table notebook</a>'\n",
              "            + ' to learn more about interactive tables.';\n",
              "          element.innerHTML = '';\n",
              "          dataTable['output_type'] = 'display_data';\n",
              "          await google.colab.output.renderOutput(dataTable, element);\n",
              "          const docLink = document.createElement('div');\n",
              "          docLink.innerHTML = docLinkHtml;\n",
              "          element.appendChild(docLink);\n",
              "        }\n",
              "      </script>\n",
              "    </div>\n",
              "  </div>\n",
              "  "
            ]
          },
          "metadata": {},
          "execution_count": 79
        }
      ]
    },
    {
      "cell_type": "markdown",
      "source": [
        "** MODELO: KKN.**"
      ],
      "metadata": {
        "id": "Zx2QCRZW_FiX"
      }
    },
    {
      "cell_type": "code",
      "source": [
        "from sklearn.neighbors import KNeighborsClassifier"
      ],
      "metadata": {
        "id": "Dr1doDQn_JIv"
      },
      "execution_count": 80,
      "outputs": []
    },
    {
      "cell_type": "markdown",
      "source": [
        "Se va a proceder a hacer un ciclo para ver cuál K-vecinos que muestra mejor ajuste. "
      ],
      "metadata": {
        "id": "CirUyNdAF2-l"
      }
    },
    {
      "cell_type": "code",
      "source": [
        "df= pd.DataFrame()\n",
        "df['Vecinos'] = None\n",
        "df['Accuracy'] = None\n",
        "df['Error'] = None\n",
        "\n",
        "for K in range(1,25):\n",
        "  #Se guarda el modelo que se va a usar: árboles de decisión de clasificación\n",
        "  knn_model = KNeighborsClassifier(n_neighbors=K)\n",
        "  knn_model.fit(X_train, y_train)\n",
        "  y_predict = knn_model.predict(X_test)\n",
        "  accuracy = accuracy_score(y_test, y_predict)\n",
        "  mse = mean_squared_error(y_test, y_predict)\n",
        "  rmse = sqrt(mse)\n",
        "  nueva_fila = { 'Vecinos': K, 'Accuracy': accuracy, 'Error': rmse}\n",
        "  df = df.append(nueva_fila, ignore_index=True)\n"
      ],
      "metadata": {
        "id": "suxiNtoctMyH"
      },
      "execution_count": 81,
      "outputs": []
    },
    {
      "cell_type": "code",
      "source": [
        "df"
      ],
      "metadata": {
        "colab": {
          "base_uri": "https://localhost:8080/",
          "height": 802
        },
        "id": "6hlj1LtZ_QYX",
        "outputId": "88ba3cb7-529a-4fd0-9aab-084876c152b3"
      },
      "execution_count": 82,
      "outputs": [
        {
          "output_type": "execute_result",
          "data": {
            "text/plain": [
              "    Vecinos  Accuracy     Error\n",
              "0       1.0  0.896813  0.321228\n",
              "1       2.0  0.905756  0.306993\n",
              "2       3.0  0.933960  0.256982\n",
              "3       4.0  0.927769  0.268759\n",
              "4       5.0  0.930750  0.263154\n",
              "5       6.0  0.925705  0.272571\n",
              "6       7.0  0.928457  0.267476\n",
              "7       8.0  0.924100  0.275500\n",
              "8       9.0  0.922266  0.278809\n",
              "9      10.0  0.921807  0.279630\n",
              "10     11.0  0.924100  0.275500\n",
              "11     12.0  0.918826  0.284911\n",
              "12     13.0  0.918826  0.284911\n",
              "13     14.0  0.915157  0.291278\n",
              "14     15.0  0.916074  0.289699\n",
              "15     16.0  0.914469  0.292457\n",
              "16     17.0  0.912864  0.295188\n",
              "17     18.0  0.910571  0.299047\n",
              "18     19.0  0.912405  0.295964\n",
              "19     20.0  0.909424  0.300958\n",
              "20     21.0  0.909883  0.300195\n",
              "21     22.0  0.907131  0.304744\n",
              "22     23.0  0.908507  0.302478\n",
              "23     24.0  0.907361  0.304367"
            ],
            "text/html": [
              "\n",
              "  <div id=\"df-e684514b-e3c3-4a6f-993e-2e7b8666bbfb\">\n",
              "    <div class=\"colab-df-container\">\n",
              "      <div>\n",
              "<style scoped>\n",
              "    .dataframe tbody tr th:only-of-type {\n",
              "        vertical-align: middle;\n",
              "    }\n",
              "\n",
              "    .dataframe tbody tr th {\n",
              "        vertical-align: top;\n",
              "    }\n",
              "\n",
              "    .dataframe thead th {\n",
              "        text-align: right;\n",
              "    }\n",
              "</style>\n",
              "<table border=\"1\" class=\"dataframe\">\n",
              "  <thead>\n",
              "    <tr style=\"text-align: right;\">\n",
              "      <th></th>\n",
              "      <th>Vecinos</th>\n",
              "      <th>Accuracy</th>\n",
              "      <th>Error</th>\n",
              "    </tr>\n",
              "  </thead>\n",
              "  <tbody>\n",
              "    <tr>\n",
              "      <th>0</th>\n",
              "      <td>1.0</td>\n",
              "      <td>0.896813</td>\n",
              "      <td>0.321228</td>\n",
              "    </tr>\n",
              "    <tr>\n",
              "      <th>1</th>\n",
              "      <td>2.0</td>\n",
              "      <td>0.905756</td>\n",
              "      <td>0.306993</td>\n",
              "    </tr>\n",
              "    <tr>\n",
              "      <th>2</th>\n",
              "      <td>3.0</td>\n",
              "      <td>0.933960</td>\n",
              "      <td>0.256982</td>\n",
              "    </tr>\n",
              "    <tr>\n",
              "      <th>3</th>\n",
              "      <td>4.0</td>\n",
              "      <td>0.927769</td>\n",
              "      <td>0.268759</td>\n",
              "    </tr>\n",
              "    <tr>\n",
              "      <th>4</th>\n",
              "      <td>5.0</td>\n",
              "      <td>0.930750</td>\n",
              "      <td>0.263154</td>\n",
              "    </tr>\n",
              "    <tr>\n",
              "      <th>5</th>\n",
              "      <td>6.0</td>\n",
              "      <td>0.925705</td>\n",
              "      <td>0.272571</td>\n",
              "    </tr>\n",
              "    <tr>\n",
              "      <th>6</th>\n",
              "      <td>7.0</td>\n",
              "      <td>0.928457</td>\n",
              "      <td>0.267476</td>\n",
              "    </tr>\n",
              "    <tr>\n",
              "      <th>7</th>\n",
              "      <td>8.0</td>\n",
              "      <td>0.924100</td>\n",
              "      <td>0.275500</td>\n",
              "    </tr>\n",
              "    <tr>\n",
              "      <th>8</th>\n",
              "      <td>9.0</td>\n",
              "      <td>0.922266</td>\n",
              "      <td>0.278809</td>\n",
              "    </tr>\n",
              "    <tr>\n",
              "      <th>9</th>\n",
              "      <td>10.0</td>\n",
              "      <td>0.921807</td>\n",
              "      <td>0.279630</td>\n",
              "    </tr>\n",
              "    <tr>\n",
              "      <th>10</th>\n",
              "      <td>11.0</td>\n",
              "      <td>0.924100</td>\n",
              "      <td>0.275500</td>\n",
              "    </tr>\n",
              "    <tr>\n",
              "      <th>11</th>\n",
              "      <td>12.0</td>\n",
              "      <td>0.918826</td>\n",
              "      <td>0.284911</td>\n",
              "    </tr>\n",
              "    <tr>\n",
              "      <th>12</th>\n",
              "      <td>13.0</td>\n",
              "      <td>0.918826</td>\n",
              "      <td>0.284911</td>\n",
              "    </tr>\n",
              "    <tr>\n",
              "      <th>13</th>\n",
              "      <td>14.0</td>\n",
              "      <td>0.915157</td>\n",
              "      <td>0.291278</td>\n",
              "    </tr>\n",
              "    <tr>\n",
              "      <th>14</th>\n",
              "      <td>15.0</td>\n",
              "      <td>0.916074</td>\n",
              "      <td>0.289699</td>\n",
              "    </tr>\n",
              "    <tr>\n",
              "      <th>15</th>\n",
              "      <td>16.0</td>\n",
              "      <td>0.914469</td>\n",
              "      <td>0.292457</td>\n",
              "    </tr>\n",
              "    <tr>\n",
              "      <th>16</th>\n",
              "      <td>17.0</td>\n",
              "      <td>0.912864</td>\n",
              "      <td>0.295188</td>\n",
              "    </tr>\n",
              "    <tr>\n",
              "      <th>17</th>\n",
              "      <td>18.0</td>\n",
              "      <td>0.910571</td>\n",
              "      <td>0.299047</td>\n",
              "    </tr>\n",
              "    <tr>\n",
              "      <th>18</th>\n",
              "      <td>19.0</td>\n",
              "      <td>0.912405</td>\n",
              "      <td>0.295964</td>\n",
              "    </tr>\n",
              "    <tr>\n",
              "      <th>19</th>\n",
              "      <td>20.0</td>\n",
              "      <td>0.909424</td>\n",
              "      <td>0.300958</td>\n",
              "    </tr>\n",
              "    <tr>\n",
              "      <th>20</th>\n",
              "      <td>21.0</td>\n",
              "      <td>0.909883</td>\n",
              "      <td>0.300195</td>\n",
              "    </tr>\n",
              "    <tr>\n",
              "      <th>21</th>\n",
              "      <td>22.0</td>\n",
              "      <td>0.907131</td>\n",
              "      <td>0.304744</td>\n",
              "    </tr>\n",
              "    <tr>\n",
              "      <th>22</th>\n",
              "      <td>23.0</td>\n",
              "      <td>0.908507</td>\n",
              "      <td>0.302478</td>\n",
              "    </tr>\n",
              "    <tr>\n",
              "      <th>23</th>\n",
              "      <td>24.0</td>\n",
              "      <td>0.907361</td>\n",
              "      <td>0.304367</td>\n",
              "    </tr>\n",
              "  </tbody>\n",
              "</table>\n",
              "</div>\n",
              "      <button class=\"colab-df-convert\" onclick=\"convertToInteractive('df-e684514b-e3c3-4a6f-993e-2e7b8666bbfb')\"\n",
              "              title=\"Convert this dataframe to an interactive table.\"\n",
              "              style=\"display:none;\">\n",
              "        \n",
              "  <svg xmlns=\"http://www.w3.org/2000/svg\" height=\"24px\"viewBox=\"0 0 24 24\"\n",
              "       width=\"24px\">\n",
              "    <path d=\"M0 0h24v24H0V0z\" fill=\"none\"/>\n",
              "    <path d=\"M18.56 5.44l.94 2.06.94-2.06 2.06-.94-2.06-.94-.94-2.06-.94 2.06-2.06.94zm-11 1L8.5 8.5l.94-2.06 2.06-.94-2.06-.94L8.5 2.5l-.94 2.06-2.06.94zm10 10l.94 2.06.94-2.06 2.06-.94-2.06-.94-.94-2.06-.94 2.06-2.06.94z\"/><path d=\"M17.41 7.96l-1.37-1.37c-.4-.4-.92-.59-1.43-.59-.52 0-1.04.2-1.43.59L10.3 9.45l-7.72 7.72c-.78.78-.78 2.05 0 2.83L4 21.41c.39.39.9.59 1.41.59.51 0 1.02-.2 1.41-.59l7.78-7.78 2.81-2.81c.8-.78.8-2.07 0-2.86zM5.41 20L4 18.59l7.72-7.72 1.47 1.35L5.41 20z\"/>\n",
              "  </svg>\n",
              "      </button>\n",
              "      \n",
              "  <style>\n",
              "    .colab-df-container {\n",
              "      display:flex;\n",
              "      flex-wrap:wrap;\n",
              "      gap: 12px;\n",
              "    }\n",
              "\n",
              "    .colab-df-convert {\n",
              "      background-color: #E8F0FE;\n",
              "      border: none;\n",
              "      border-radius: 50%;\n",
              "      cursor: pointer;\n",
              "      display: none;\n",
              "      fill: #1967D2;\n",
              "      height: 32px;\n",
              "      padding: 0 0 0 0;\n",
              "      width: 32px;\n",
              "    }\n",
              "\n",
              "    .colab-df-convert:hover {\n",
              "      background-color: #E2EBFA;\n",
              "      box-shadow: 0px 1px 2px rgba(60, 64, 67, 0.3), 0px 1px 3px 1px rgba(60, 64, 67, 0.15);\n",
              "      fill: #174EA6;\n",
              "    }\n",
              "\n",
              "    [theme=dark] .colab-df-convert {\n",
              "      background-color: #3B4455;\n",
              "      fill: #D2E3FC;\n",
              "    }\n",
              "\n",
              "    [theme=dark] .colab-df-convert:hover {\n",
              "      background-color: #434B5C;\n",
              "      box-shadow: 0px 1px 3px 1px rgba(0, 0, 0, 0.15);\n",
              "      filter: drop-shadow(0px 1px 2px rgba(0, 0, 0, 0.3));\n",
              "      fill: #FFFFFF;\n",
              "    }\n",
              "  </style>\n",
              "\n",
              "      <script>\n",
              "        const buttonEl =\n",
              "          document.querySelector('#df-e684514b-e3c3-4a6f-993e-2e7b8666bbfb button.colab-df-convert');\n",
              "        buttonEl.style.display =\n",
              "          google.colab.kernel.accessAllowed ? 'block' : 'none';\n",
              "\n",
              "        async function convertToInteractive(key) {\n",
              "          const element = document.querySelector('#df-e684514b-e3c3-4a6f-993e-2e7b8666bbfb');\n",
              "          const dataTable =\n",
              "            await google.colab.kernel.invokeFunction('convertToInteractive',\n",
              "                                                     [key], {});\n",
              "          if (!dataTable) return;\n",
              "\n",
              "          const docLinkHtml = 'Like what you see? Visit the ' +\n",
              "            '<a target=\"_blank\" href=https://colab.research.google.com/notebooks/data_table.ipynb>data table notebook</a>'\n",
              "            + ' to learn more about interactive tables.';\n",
              "          element.innerHTML = '';\n",
              "          dataTable['output_type'] = 'display_data';\n",
              "          await google.colab.output.renderOutput(dataTable, element);\n",
              "          const docLink = document.createElement('div');\n",
              "          docLink.innerHTML = docLinkHtml;\n",
              "          element.appendChild(docLink);\n",
              "        }\n",
              "      </script>\n",
              "    </div>\n",
              "  </div>\n",
              "  "
            ]
          },
          "metadata": {},
          "execution_count": 82
        }
      ]
    },
    {
      "cell_type": "code",
      "source": [
        "fig, ax1 = plt.subplots()\n",
        "ax2 = ax1.twinx()\n",
        "ax1.plot(df.Vecinos,df.Accuracy,'g-')\n",
        "ax2.plot(df.Vecinos,df.Error,'b-')\n",
        " \n",
        "ax1.set_xlabel(\"Vecinos\")\n",
        "ax1.set_ylabel(\"Accuracy\",color='g')\n",
        " \n",
        "ax2.set_ylabel(\"Error\",color='b')\n",
        "\n",
        "plt.title(\"Error y Accuracy del modelo KNN para cada K\")\n",
        " \n",
        "plt.show()\n",
        " "
      ],
      "metadata": {
        "colab": {
          "base_uri": "https://localhost:8080/",
          "height": 295
        },
        "id": "P39Vr-yfzWQ7",
        "outputId": "fd16b377-3c30-4c1d-f3d3-faf155970729"
      },
      "execution_count": 83,
      "outputs": [
        {
          "output_type": "display_data",
          "data": {
            "text/plain": [
              "<Figure size 432x288 with 2 Axes>"
            ],
            "image/png": "[encoded data removed]"
          },
          "metadata": {
            "needs_background": "light"
          }
        }
      ]
    },
    {
      "cell_type": "markdown",
      "source": [
        "Se puede notar que alrededor de 3 vecinos se puede obtener aproximadamente 93.5% de accuracy y el mínimo error de 0.25. \n",
        "\n",
        "Vamos a mantener el modelo con 3 vecinos  y ver otras medidas para evaluar el modelo. "
      ],
      "metadata": {
        "id": "I8czQxjouj5B"
      }
    },
    {
      "cell_type": "code",
      "source": [
        "knn_model = KNeighborsClassifier(n_neighbors=3)\n",
        "knn_model.fit(X_train, y_train)\n",
        "y_predict = knn_model.predict(X_test)\n",
        "accuracy = accuracy_score(y_test, y_predict)\n",
        "accuracy"
      ],
      "metadata": {
        "colab": {
          "base_uri": "https://localhost:8080/"
        },
        "id": "aEowX4squzhx",
        "outputId": "3bc77a0d-5fae-42fa-a84b-14021be674f2"
      },
      "execution_count": 84,
      "outputs": [
        {
          "output_type": "execute_result",
          "data": {
            "text/plain": [
              "0.9339601008942903"
            ]
          },
          "metadata": {},
          "execution_count": 84
        }
      ]
    },
    {
      "cell_type": "code",
      "source": [
        "print(\"La matriz de confusión es: \")\n",
        "confusion_matrix(y_test, y_predict)"
      ],
      "metadata": {
        "colab": {
          "base_uri": "https://localhost:8080/"
        },
        "id": "SqvKBcZU2gTU",
        "outputId": "b434a469-64c0-44a2-913f-a1863e0a0363"
      },
      "execution_count": 85,
      "outputs": [
        {
          "output_type": "stream",
          "name": "stdout",
          "text": [
            "La matriz de confusión es: \n"
          ]
        },
        {
          "output_type": "execute_result",
          "data": {
            "text/plain": [
              "array([[2099,  126],\n",
              "       [ 162, 1974]])"
            ]
          },
          "metadata": {},
          "execution_count": 85
        }
      ]
    },
    {
      "cell_type": "code",
      "source": [
        "print(\"Un resumen de medidas para evaluar el modelo. Por favor, interpretar estos datos de la misma forma que se explicó en el modelo anterior\")\n",
        "\n",
        "print(classification_report(y_test, y_predict))"
      ],
      "metadata": {
        "colab": {
          "base_uri": "https://localhost:8080/"
        },
        "id": "ZwMATpxWvCWJ",
        "outputId": "95842894-64fc-4961-9a0a-d2f060c9312b"
      },
      "execution_count": 86,
      "outputs": [
        {
          "output_type": "stream",
          "name": "stdout",
          "text": [
            "Un resumen de medidas para evaluar el modelo. Por favor, interpretar estos datos de la misma forma que se explicó en el modelo anterior\n",
            "              precision    recall  f1-score   support\n",
            "\n",
            "           0       0.93      0.94      0.94      2225\n",
            "           1       0.94      0.92      0.93      2136\n",
            "\n",
            "    accuracy                           0.93      4361\n",
            "   macro avg       0.93      0.93      0.93      4361\n",
            "weighted avg       0.93      0.93      0.93      4361\n",
            "\n"
          ]
        }
      ]
    },
    {
      "cell_type": "markdown",
      "source": [
        "** MODELO: Máquina de Soporte Vectorial.**\n"
      ],
      "metadata": {
        "id": "in9IXHJoEaRi"
      }
    },
    {
      "cell_type": "code",
      "source": [
        "from sklearn.model_selection import GridSearchCV\n",
        "from sklearn.svm import SVC"
      ],
      "metadata": {
        "id": "aYW_MKSBEe3p"
      },
      "execution_count": 5,
      "outputs": []
    },
    {
      "cell_type": "code",
      "source": [
        "df= pd.DataFrame()\n",
        "df['C'] = None\n",
        "df['Accuracy'] = None\n",
        "df['Error'] = None\n",
        "\n",
        "for C in range(1,15):\n",
        "  #Se guarda el modelo que se va a usar: árboles de decisión de clasificación\n",
        "  svc_modelo = SVC(C = C, kernel = 'linear', random_state=1)\n",
        "  svc_modelo.fit(X_train, y_train)\n",
        "  y_predict = svc_modelo.predict(X_test)\n",
        "  accuracy = accuracy_score(y_test, y_predict)\n",
        "  mse = mean_squared_error(y_test, y_predict)\n",
        "  rmse = sqrt(mse)\n",
        "  nueva_fila = { 'C': C, 'Accuracy': accuracy, 'Error': rmse}\n",
        "  df = df.append(nueva_fila, ignore_index=True)"
      ],
      "metadata": {
        "id": "n6Mu_kVf3bg7"
      },
      "execution_count": 24,
      "outputs": []
    },
    {
      "cell_type": "markdown",
      "source": [
        "Ahora vamos a utilizar el método de ensamble: Bagging. La idea del algoritmo de Bagging, consiste en entrenar modelos de forma independiente y después combinar sus resultados. Para clasificación se obtendría el voto por mayoría de cada algoritmo (la moda). \n",
        "\n"
      ],
      "metadata": {
        "id": "upU8T6w2-nXZ"
      }
    },
    {
      "cell_type": "code",
      "source": [
        "df"
      ],
      "metadata": {
        "colab": {
          "base_uri": "https://localhost:8080/",
          "height": 488
        },
        "id": "Ho1UqtrN9Zt7",
        "outputId": "64b95524-2f2a-445f-fab2-35fd431689ba"
      },
      "execution_count": 25,
      "outputs": [
        {
          "output_type": "execute_result",
          "data": {
            "text/plain": [
              "       C  Accuracy     Error\n",
              "0    1.0  0.869067  0.361847\n",
              "1    2.0  0.868608  0.362480\n",
              "2    3.0  0.865398  0.366882\n",
              "3    4.0  0.867691  0.363743\n",
              "4    5.0  0.868379  0.362796\n",
              "5    6.0  0.870672  0.359622\n",
              "6    7.0  0.869755  0.360895\n",
              "7    8.0  0.869525  0.361213\n",
              "8    9.0  0.869296  0.361530\n",
              "9   10.0  0.869296  0.361530\n",
              "10  11.0  0.868837  0.362164\n",
              "11  12.0  0.868608  0.362480\n",
              "12  13.0  0.868608  0.362480\n",
              "13  14.0  0.867691  0.363743"
            ],
            "text/html": [
              "\n",
              "  <div id=\"df-6e10aeec-8762-4537-a8cc-ed62dacf1565\">\n",
              "    <div class=\"colab-df-container\">\n",
              "      <div>\n",
              "<style scoped>\n",
              "    .dataframe tbody tr th:only-of-type {\n",
              "        vertical-align: middle;\n",
              "    }\n",
              "\n",
              "    .dataframe tbody tr th {\n",
              "        vertical-align: top;\n",
              "    }\n",
              "\n",
              "    .dataframe thead th {\n",
              "        text-align: right;\n",
              "    }\n",
              "</style>\n",
              "<table border=\"1\" class=\"dataframe\">\n",
              "  <thead>\n",
              "    <tr style=\"text-align: right;\">\n",
              "      <th></th>\n",
              "      <th>C</th>\n",
              "      <th>Accuracy</th>\n",
              "      <th>Error</th>\n",
              "    </tr>\n",
              "  </thead>\n",
              "  <tbody>\n",
              "    <tr>\n",
              "      <th>0</th>\n",
              "      <td>1.0</td>\n",
              "      <td>0.869067</td>\n",
              "      <td>0.361847</td>\n",
              "    </tr>\n",
              "    <tr>\n",
              "      <th>1</th>\n",
              "      <td>2.0</td>\n",
              "      <td>0.868608</td>\n",
              "      <td>0.362480</td>\n",
              "    </tr>\n",
              "    <tr>\n",
              "      <th>2</th>\n",
              "      <td>3.0</td>\n",
              "      <td>0.865398</td>\n",
              "      <td>0.366882</td>\n",
              "    </tr>\n",
              "    <tr>\n",
              "      <th>3</th>\n",
              "      <td>4.0</td>\n",
              "      <td>0.867691</td>\n",
              "      <td>0.363743</td>\n",
              "    </tr>\n",
              "    <tr>\n",
              "      <th>4</th>\n",
              "      <td>5.0</td>\n",
              "      <td>0.868379</td>\n",
              "      <td>0.362796</td>\n",
              "    </tr>\n",
              "    <tr>\n",
              "      <th>5</th>\n",
              "      <td>6.0</td>\n",
              "      <td>0.870672</td>\n",
              "      <td>0.359622</td>\n",
              "    </tr>\n",
              "    <tr>\n",
              "      <th>6</th>\n",
              "      <td>7.0</td>\n",
              "      <td>0.869755</td>\n",
              "      <td>0.360895</td>\n",
              "    </tr>\n",
              "    <tr>\n",
              "      <th>7</th>\n",
              "      <td>8.0</td>\n",
              "      <td>0.869525</td>\n",
              "      <td>0.361213</td>\n",
              "    </tr>\n",
              "    <tr>\n",
              "      <th>8</th>\n",
              "      <td>9.0</td>\n",
              "      <td>0.869296</td>\n",
              "      <td>0.361530</td>\n",
              "    </tr>\n",
              "    <tr>\n",
              "      <th>9</th>\n",
              "      <td>10.0</td>\n",
              "      <td>0.869296</td>\n",
              "      <td>0.361530</td>\n",
              "    </tr>\n",
              "    <tr>\n",
              "      <th>10</th>\n",
              "      <td>11.0</td>\n",
              "      <td>0.868837</td>\n",
              "      <td>0.362164</td>\n",
              "    </tr>\n",
              "    <tr>\n",
              "      <th>11</th>\n",
              "      <td>12.0</td>\n",
              "      <td>0.868608</td>\n",
              "      <td>0.362480</td>\n",
              "    </tr>\n",
              "    <tr>\n",
              "      <th>12</th>\n",
              "      <td>13.0</td>\n",
              "      <td>0.868608</td>\n",
              "      <td>0.362480</td>\n",
              "    </tr>\n",
              "    <tr>\n",
              "      <th>13</th>\n",
              "      <td>14.0</td>\n",
              "      <td>0.867691</td>\n",
              "      <td>0.363743</td>\n",
              "    </tr>\n",
              "  </tbody>\n",
              "</table>\n",
              "</div>\n",
              "      <button class=\"colab-df-convert\" onclick=\"convertToInteractive('df-6e10aeec-8762-4537-a8cc-ed62dacf1565')\"\n",
              "              title=\"Convert this dataframe to an interactive table.\"\n",
              "              style=\"display:none;\">\n",
              "        \n",
              "  <svg xmlns=\"http://www.w3.org/2000/svg\" height=\"24px\"viewBox=\"0 0 24 24\"\n",
              "       width=\"24px\">\n",
              "    <path d=\"M0 0h24v24H0V0z\" fill=\"none\"/>\n",
              "    <path d=\"M18.56 5.44l.94 2.06.94-2.06 2.06-.94-2.06-.94-.94-2.06-.94 2.06-2.06.94zm-11 1L8.5 8.5l.94-2.06 2.06-.94-2.06-.94L8.5 2.5l-.94 2.06-2.06.94zm10 10l.94 2.06.94-2.06 2.06-.94-2.06-.94-.94-2.06-.94 2.06-2.06.94z\"/><path d=\"M17.41 7.96l-1.37-1.37c-.4-.4-.92-.59-1.43-.59-.52 0-1.04.2-1.43.59L10.3 9.45l-7.72 7.72c-.78.78-.78 2.05 0 2.83L4 21.41c.39.39.9.59 1.41.59.51 0 1.02-.2 1.41-.59l7.78-7.78 2.81-2.81c.8-.78.8-2.07 0-2.86zM5.41 20L4 18.59l7.72-7.72 1.47 1.35L5.41 20z\"/>\n",
              "  </svg>\n",
              "      </button>\n",
              "      \n",
              "  <style>\n",
              "    .colab-df-container {\n",
              "      display:flex;\n",
              "      flex-wrap:wrap;\n",
              "      gap: 12px;\n",
              "    }\n",
              "\n",
              "    .colab-df-convert {\n",
              "      background-color: #E8F0FE;\n",
              "      border: none;\n",
              "      border-radius: 50%;\n",
              "      cursor: pointer;\n",
              "      display: none;\n",
              "      fill: #1967D2;\n",
              "      height: 32px;\n",
              "      padding: 0 0 0 0;\n",
              "      width: 32px;\n",
              "    }\n",
              "\n",
              "    .colab-df-convert:hover {\n",
              "      background-color: #E2EBFA;\n",
              "      box-shadow: 0px 1px 2px rgba(60, 64, 67, 0.3), 0px 1px 3px 1px rgba(60, 64, 67, 0.15);\n",
              "      fill: #174EA6;\n",
              "    }\n",
              "\n",
              "    [theme=dark] .colab-df-convert {\n",
              "      background-color: #3B4455;\n",
              "      fill: #D2E3FC;\n",
              "    }\n",
              "\n",
              "    [theme=dark] .colab-df-convert:hover {\n",
              "      background-color: #434B5C;\n",
              "      box-shadow: 0px 1px 3px 1px rgba(0, 0, 0, 0.15);\n",
              "      filter: drop-shadow(0px 1px 2px rgba(0, 0, 0, 0.3));\n",
              "      fill: #FFFFFF;\n",
              "    }\n",
              "  </style>\n",
              "\n",
              "      <script>\n",
              "        const buttonEl =\n",
              "          document.querySelector('#df-6e10aeec-8762-4537-a8cc-ed62dacf1565 button.colab-df-convert');\n",
              "        buttonEl.style.display =\n",
              "          google.colab.kernel.accessAllowed ? 'block' : 'none';\n",
              "\n",
              "        async function convertToInteractive(key) {\n",
              "          const element = document.querySelector('#df-6e10aeec-8762-4537-a8cc-ed62dacf1565');\n",
              "          const dataTable =\n",
              "            await google.colab.kernel.invokeFunction('convertToInteractive',\n",
              "                                                     [key], {});\n",
              "          if (!dataTable) return;\n",
              "\n",
              "          const docLinkHtml = 'Like what you see? Visit the ' +\n",
              "            '<a target=\"_blank\" href=https://colab.research.google.com/notebooks/data_table.ipynb>data table notebook</a>'\n",
              "            + ' to learn more about interactive tables.';\n",
              "          element.innerHTML = '';\n",
              "          dataTable['output_type'] = 'display_data';\n",
              "          await google.colab.output.renderOutput(dataTable, element);\n",
              "          const docLink = document.createElement('div');\n",
              "          docLink.innerHTML = docLinkHtml;\n",
              "          element.appendChild(docLink);\n",
              "        }\n",
              "      </script>\n",
              "    </div>\n",
              "  </div>\n",
              "  "
            ]
          },
          "metadata": {},
          "execution_count": 25
        }
      ]
    },
    {
      "cell_type": "code",
      "source": [
        "fig, ax1 = plt.subplots()\n",
        "ax2 = ax1.twinx()\n",
        "ax1.plot(df.C,df.Accuracy,'g-')\n",
        "ax2.plot(df.C,df.Error,'b-')\n",
        " \n",
        "ax1.set_xlabel(\"Vecinos\")\n",
        "ax1.set_ylabel(\"Accuracy\",color='g')\n",
        " \n",
        "ax2.set_ylabel(\"Error\",color='b')\n",
        "\n",
        "plt.title(\"Error y Accuracy del modelo SVC para cada K\")\n",
        " \n",
        "plt.show()\n",
        " "
      ],
      "metadata": {
        "colab": {
          "base_uri": "https://localhost:8080/",
          "height": 295
        },
        "id": "7EsBwTmOAqF9",
        "outputId": "2876d337-19d6-42ec-ee45-89525a7f2fcf"
      },
      "execution_count": 27,
      "outputs": [
        {
          "output_type": "display_data",
          "data": {
            "text/plain": [
              "<Figure size 432x288 with 2 Axes>"
            ],
            "image/png": "[encoded data removed]"
          },
          "metadata": {
            "needs_background": "light"
          }
        }
      ]
    },
    {
      "cell_type": "markdown",
      "source": [
        "Se puede notar que alrededor de C (médida de generalización) iguala a 6  se puede obtener aproximadamente 86% de accuracy y el mínimo error de 0.35. \n",
        "\n",
        "Vamos a mantener el modelo con C igual a 3  y ver otras medidas para evaluar el modelo. "
      ],
      "metadata": {
        "id": "LL61NsfxBeIe"
      }
    },
    {
      "cell_type": "code",
      "source": [
        "print(\"La matriz de confusión es: \")\n",
        "confusion_matrix(y_test, y_predict)"
      ],
      "metadata": {
        "colab": {
          "base_uri": "https://localhost:8080/"
        },
        "id": "RH6AunIdBAYe",
        "outputId": "039e86d5-50eb-4bff-ea74-a0b18d0e3f91"
      },
      "execution_count": 28,
      "outputs": [
        {
          "output_type": "stream",
          "name": "stdout",
          "text": [
            "La matriz de confusión es: \n"
          ]
        },
        {
          "output_type": "execute_result",
          "data": {
            "text/plain": [
              "array([[2011,  214],\n",
              "       [ 363, 1773]])"
            ]
          },
          "metadata": {},
          "execution_count": 28
        }
      ]
    },
    {
      "cell_type": "code",
      "source": [
        "print(\"Un resumen de medidas para evaluar el modelo. Por favor, interpretar estos datos de la misma forma que se explicó en el modelo anterior\")\n",
        "\n",
        "print(classification_report(y_test, y_predict))"
      ],
      "metadata": {
        "colab": {
          "base_uri": "https://localhost:8080/"
        },
        "id": "26s6FDlLBAos",
        "outputId": "1c497027-922a-4f98-ac0d-51ed372445e0"
      },
      "execution_count": 29,
      "outputs": [
        {
          "output_type": "stream",
          "name": "stdout",
          "text": [
            "Un resumen de medidas para evaluar el modelo. Por favor, interpretar estos datos de la misma forma que se explicó en el modelo anterior\n",
            "              precision    recall  f1-score   support\n",
            "\n",
            "           0       0.85      0.90      0.87      2225\n",
            "           1       0.89      0.83      0.86      2136\n",
            "\n",
            "    accuracy                           0.87      4361\n",
            "   macro avg       0.87      0.87      0.87      4361\n",
            "weighted avg       0.87      0.87      0.87      4361\n",
            "\n"
          ]
        }
      ]
    },
    {
      "cell_type": "markdown",
      "source": [
        "MODELO DE ENSAMBLE: BAGGING "
      ],
      "metadata": {
        "id": "A29l151pB7Gc"
      }
    },
    {
      "cell_type": "markdown",
      "source": [
        "Ede conjunto que ajusta cada uno de los regresores base en subconjuntos aleatorios del conjunto de datos original y luego agrega sus predicciones individuales (ya sea votando o promediando) para formar una predicción final. Este tipo se puede utilizar normalmente como una forma de reducir la varianza de un modelo simple (por ejemplo, un árbol de decisiones), introduciendo la aleatorización en su procedimiento de construcción y luego creando un conjunto a partir de él."
      ],
      "metadata": {
        "id": "2pGa5LKxDtZ6"
      }
    },
    {
      "cell_type": "code",
      "source": [
        "from sklearn.ensemble import BaggingClassifier"
      ],
      "metadata": {
        "id": "qBXSlj5mBAsS"
      },
      "execution_count": 87,
      "outputs": []
    },
    {
      "cell_type": "code",
      "source": [
        "model = BaggingClassifier()\n",
        "model.fit(X_train, y_train)\n",
        "# make a single prediction\n",
        "y_predict = model.predict(X_test)\n",
        "print(\"El accuracy del modelo de ensamble Bagging es: \", accuracy_score(y_test, y_predict))\n",
        "mse = mean_squared_error(y_test, y_predict)\n",
        "rmse = sqrt(mse)\n",
        "print(\"El error del modelo de ensamble Bagging es: \", rmse)\n",
        "\n"
      ],
      "metadata": {
        "colab": {
          "base_uri": "https://localhost:8080/"
        },
        "id": "ivfwvuU2By-m",
        "outputId": "0ab2b390-ee2a-4354-81c4-d600803fcdbd"
      },
      "execution_count": 88,
      "outputs": [
        {
          "output_type": "stream",
          "name": "stdout",
          "text": [
            "El accuracy del modelo de ensamble Bagging es:  0.9669800504471452\n",
            "El error del modelo de ensamble Bagging es:  0.18171392228680458\n"
          ]
        }
      ]
    },
    {
      "cell_type": "markdown",
      "source": [
        "Vemos que el accuracy y el error del modelo es muy buena y  similar a cuando se implementa árboles de decisión, estos son los mejores modelos para nuestra predicción del Status del fuego."
      ],
      "metadata": {
        "id": "FHxwavBcDJZq"
      }
    },
    {
      "cell_type": "code",
      "source": [
        ""
      ],
      "metadata": {
        "id": "HQBWunqpBznx"
      },
      "execution_count": null,
      "outputs": []
    },
    {
      "cell_type": "code",
      "source": [
        ""
      ],
      "metadata": {
        "id": "WVI8IZ7ZGGmx"
      },
      "execution_count": null,
      "outputs": []
    },
    {
      "cell_type": "code",
      "source": [
        ""
      ],
      "metadata": {
        "id": "Lq2gA1bpGGqP"
      },
      "execution_count": null,
      "outputs": []
    },
    {
      "cell_type": "code",
      "source": [
        ""
      ],
      "metadata": {
        "id": "Yj9WJlxvGGvu"
      },
      "execution_count": null,
      "outputs": []
    },
    {
      "cell_type": "code",
      "source": [
        ""
      ],
      "metadata": {
        "id": "FersYi3DGGyx"
      },
      "execution_count": null,
      "outputs": []
    },
    {
      "cell_type": "code",
      "source": [
        ""
      ],
      "metadata": {
        "id": "MUQFrfvkGG29"
      },
      "execution_count": null,
      "outputs": []
    },
    {
      "cell_type": "code",
      "source": [
        ""
      ],
      "metadata": {
        "id": "d57eh5EpGG5d"
      },
      "execution_count": null,
      "outputs": []
    },
    {
      "cell_type": "code",
      "source": [
        ""
      ],
      "metadata": {
        "id": "MHbAJ5plBAv4"
      },
      "execution_count": null,
      "outputs": []
    },
    {
      "cell_type": "markdown",
      "source": [
        "Probamos otro método de clasificación distinto:"
      ],
      "metadata": {
        "id": "jn1Lgs-SG6E6"
      }
    },
    {
      "cell_type": "markdown",
      "source": [
        "Naive Bayes Classifier"
      ],
      "metadata": {
        "id": "rjc__cHF4a_e"
      }
    },
    {
      "cell_type": "code",
      "source": [
        "#from sklearn.model_selection import train_test_split\n",
        "#from sklearn.naive_bayes import GaussianNB\n",
        "\n",
        "#model = GaussianNB()\n",
        "#model.fit(X_train,y_train)"
      ],
      "metadata": {
        "colab": {
          "base_uri": "https://localhost:8080/"
        },
        "id": "iT6g4Dvm62cM",
        "outputId": "3232fef9-625d-4fb9-8d7c-ff6a304fe8fe"
      },
      "execution_count": null,
      "outputs": [
        {
          "output_type": "execute_result",
          "data": {
            "text/plain": [
              "GaussianNB()"
            ]
          },
          "metadata": {},
          "execution_count": 52
        }
      ]
    },
    {
      "cell_type": "code",
      "source": [
        "#model.score(X_train,y_train)"
      ],
      "metadata": {
        "colab": {
          "base_uri": "https://localhost:8080/"
        },
        "id": "gehl-hv_7U5X",
        "outputId": "aaadf98b-cfbc-4528-8a33-a8bf350a3557"
      },
      "execution_count": null,
      "outputs": [
        {
          "output_type": "execute_result",
          "data": {
            "text/plain": [
              "0.8752388961088602"
            ]
          },
          "metadata": {},
          "execution_count": 53
        }
      ]
    },
    {
      "cell_type": "code",
      "source": [
        " "
      ],
      "metadata": {
        "id": "f04eUvmo8LCW"
      },
      "execution_count": null,
      "outputs": []
    }
  ],
  "metadata": {
    "colab": {
      "name": "Tarea 2.ipynb",
      "provenance": [],
      "collapsed_sections": [],
      "include_colab_link": true
    },
    "kernelspec": {
      "display_name": "Python 3",
      "name": "python3"
    },
    "language_info": {
      "name": "python"
    }
  },
  "nbformat": 4,
  "nbformat_minor": 0
}